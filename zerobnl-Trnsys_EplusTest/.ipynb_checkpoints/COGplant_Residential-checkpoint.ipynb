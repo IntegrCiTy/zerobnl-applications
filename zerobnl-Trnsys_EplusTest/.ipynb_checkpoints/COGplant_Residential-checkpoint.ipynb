{
 "cells": [
  {
   "cell_type": "markdown",
   "metadata": {},
   "source": [
    "# EnergyPlus and TRNSYS Example"
   ]
  },
  {
   "cell_type": "code",
   "execution_count": 1,
   "metadata": {},
   "outputs": [],
   "source": [
    "import os\n",
    "from zerobnl import CoSim"
   ]
  },
  {
   "cell_type": "markdown",
   "metadata": {},
   "source": [
    "You can safely ignore the following error (it will also be in the nodes logs):\n",
    "\n",
    "RuntimeWarning: numpy.dtype size changed, may indicate binary incompatibility. Expected 96, got 88\n",
    "\n",
    "-> [Numpy documentation](https://github.com/numpy/numpy/pull/432)"
   ]
  },
  {
   "cell_type": "code",
   "execution_count": 2,
   "metadata": {
    "scrolled": true
   },
   "outputs": [],
   "source": [
    "sim = CoSim()\n",
    "\n",
    "# There are 2 environments in this example: a TRNSYS-based one and an EnergyPlus-based one.\n",
    "sim.create_meta_model(\"MetaTrnsys\", [(\"Treturn\", \"Cdeg\"),(\"mdot_return\", \"kgs\")], [(\"Tsupply\", \"Cdeg\")]) # Set, Get\n",
    "sim.create_environment(\"EnvTrnsys\", \"wrapper_trnsys.py\", \"Dockerfile_na\")\n",
    "\n",
    "sim.create_meta_model(\"MetaEplus\", [(\"Ts_second\", \"Cdeg\")], [(\"Tr_second\", \"Cdeg\"),(\"Tindoor\",\"Cdeg\"),(\"mdot\", \"kgs\")]) # Set, Get\n",
    "sim.create_environment(\"EnvEplus\", \"wrapper_eplus.py\", \"Dockerfile_na\")\n",
    "\n",
    "# There is one model per each environment in this example. \n",
    "# OBS!! The name Base# indicates a model. Each model is contained in a node. There can be more nodes in each environment.\n",
    "sim.add_node(\"Base0\", \"MetaTrnsys\", \"EnvTrnsys\", init_values={\"Treturn\":40,\"mdot_return\":0.04}, files=[\"COG_waste.fmu\"],local=True)\n",
    "sim.add_node(\"Base1\", \"MetaEplus\", \"EnvEplus\", init_values={}, files=[\"Residential_DH.fmu\"],local=True)\n",
    "\n",
    "# Links among nodes\n",
    "sim.add_link(\"Base0\", \"Tsupply\", \"Base1\", \"Ts_second\") # get from Base0 and set to Base1\n",
    "sim.add_link(\"Base1\", \"Tr_second\", \"Base0\", \"Treturn\") # get from Base1 and set to Base0\n",
    "sim.add_link(\"Base1\", \"mdot\", \"Base0\", \"mdot_return\") # get from Base1 and set to Base0\n",
    "\n",
    "# Create groups from the simulation sequence. Nodes in the same group run in parallel. \n",
    "# A group is defined within the first level of square brackets.\n",
    "sim.create_sequence([[\"Base0\"], [\"Base1\"]])\n",
    "sim.set_time_unit(\"seconds\")\n",
    "sim.create_steps([3600] * 24)"
   ]
  },
  {
   "cell_type": "markdown",
   "metadata": {},
   "source": [
    "Once the next step has been launched, logging `INFO :: Waiting for local nodes to run..`, you need to run tho following command `wrapper_eplus.py Base1 GRP1` in the indicated folder (in a dedicated environment) in order to run the local node."
   ]
  },
  {
   "cell_type": "code",
   "execution_count": 3,
   "metadata": {
    "scrolled": true
   },
   "outputs": [
    {
     "name": "stderr",
     "output_type": "stream",
     "text": [
      "WARNING :: Local node to run in [TMP_FOLDER\\base0] > python wrapper.py\n",
      "WARNING :: Local node to run in [TMP_FOLDER\\base1] > python wrapper.py\n",
      "INFO :: Waiting for local nodes to run...\n",
      "INFO :: Simulation finished in 0 min and 33 sec\n"
     ]
    }
   ],
   "source": [
    "sim.run()"
   ]
  },
  {
   "cell_type": "markdown",
   "metadata": {},
   "source": [
    "If you see `INFO :: Simulation finished in X min and Y sec` it means everything went well.\n",
    "You can find logs of the nodes in the file `nodes.log`, it's a text file you can open it directly in Jupyter or in your favorite text editor.\n",
    "\n",
    "At the begining of the file you will find a serie of:\n",
    "\n",
    "`Step X/10 : DO SOMETHING\n",
    " ---> 29d2f3226daf`\n",
    " \n",
    "It's the logs of the creation of the Docker image, based on the provided Dockerfile (here `Dockerfile_base`).\n",
    "\n",
    "Then all the logs are structures in the same way:\n",
    "\n",
    "`<node>    | <level> :: <message>`\n",
    "\n",
    "* `node` refers to the concerned simulation node or orchestrator\n",
    "* `level` can be `DEBUG`: used for development purpose, `INFO`: giving you info on the running process, `WARNING`: warning you on action to make or some weird behaviour, `ERROR`: something went wrong and `CRITICAL`: something went really wrong.\n",
    "* `message` is the body of the log, it describes what's happening."
   ]
  },
  {
   "cell_type": "markdown",
   "metadata": {},
   "source": [
    "You can also find information on the ongoing simulation in the file `activity.log` (in the root folder for the main processus and on the temporary folder for each node)"
   ]
  },
  {
   "cell_type": "code",
   "execution_count": 4,
   "metadata": {},
   "outputs": [
    {
     "data": {
      "text/html": [
       "<div>\n",
       "<style scoped>\n",
       "    .dataframe tbody tr th:only-of-type {\n",
       "        vertical-align: middle;\n",
       "    }\n",
       "\n",
       "    .dataframe tbody tr th {\n",
       "        vertical-align: top;\n",
       "    }\n",
       "\n",
       "    .dataframe thead th {\n",
       "        text-align: right;\n",
       "    }\n",
       "</style>\n",
       "<table border=\"1\" class=\"dataframe\">\n",
       "  <thead>\n",
       "    <tr style=\"text-align: right;\">\n",
       "      <th></th>\n",
       "      <th>IN/OUT</th>\n",
       "      <th>Node</th>\n",
       "      <th>Attribute</th>\n",
       "    </tr>\n",
       "  </thead>\n",
       "  <tbody>\n",
       "    <tr>\n",
       "      <th>0</th>\n",
       "      <td>IN</td>\n",
       "      <td>Base1</td>\n",
       "      <td>Ts_second</td>\n",
       "    </tr>\n",
       "    <tr>\n",
       "      <th>1</th>\n",
       "      <td>OUT</td>\n",
       "      <td>Base0</td>\n",
       "      <td>Tsupply</td>\n",
       "    </tr>\n",
       "    <tr>\n",
       "      <th>2</th>\n",
       "      <td>IN</td>\n",
       "      <td>Base0</td>\n",
       "      <td>Treturn</td>\n",
       "    </tr>\n",
       "    <tr>\n",
       "      <th>3</th>\n",
       "      <td>OUT</td>\n",
       "      <td>Base1</td>\n",
       "      <td>Tr_second</td>\n",
       "    </tr>\n",
       "    <tr>\n",
       "      <th>4</th>\n",
       "      <td>IN</td>\n",
       "      <td>Base0</td>\n",
       "      <td>mdot_return</td>\n",
       "    </tr>\n",
       "    <tr>\n",
       "      <th>5</th>\n",
       "      <td>OUT</td>\n",
       "      <td>Base1</td>\n",
       "      <td>mdot</td>\n",
       "    </tr>\n",
       "  </tbody>\n",
       "</table>\n",
       "</div>"
      ],
      "text/plain": [
       "  IN/OUT   Node    Attribute\n",
       "0     IN  Base1    Ts_second\n",
       "1    OUT  Base0      Tsupply\n",
       "2     IN  Base0      Treturn\n",
       "3    OUT  Base1    Tr_second\n",
       "4     IN  Base0  mdot_return\n",
       "5    OUT  Base1         mdot"
      ]
     },
     "execution_count": 4,
     "metadata": {},
     "output_type": "execute_result"
    }
   ],
   "source": [
    "sim.connect_to_results_db()\n",
    "sim.get_list_of_available_results()"
   ]
  },
  {
   "cell_type": "markdown",
   "metadata": {},
   "source": [
    "The name to the stored results are build as `<type>||<node>||<attribute>`.\n",
    "\n",
    "`type` can be:\n",
    "* `IN` if it's an input attribute (to set - stored automatically)\n",
    "* `OUT` if it's an output attribute (to get - stored automatically)\n",
    "* `X` if it's an internal value (stored by the user, using the `save_attribute()` method in the wrapper)\n",
    "\n",
    "Knowing this, you can create matching pattern using `*` in order to properly select results."
   ]
  },
  {
   "cell_type": "code",
   "execution_count": 5,
   "metadata": {},
   "outputs": [
    {
     "name": "stderr",
     "output_type": "stream",
     "text": [
      "INFO :: Matching results: Base0 - Tsupply\n"
     ]
    },
    {
     "name": "stdout",
     "output_type": "stream",
     "text": [
      "OUT||Base0||Tsupply\n",
      "2000-01-01 01:00:00    56.99375\n",
      "2000-01-01 02:00:00    56.70125\n",
      "2000-01-01 03:00:00    56.40875\n",
      "2000-01-01 04:00:00    56.11625\n",
      "2000-01-01 05:00:00    55.82375\n",
      "2000-01-01 06:00:00    55.53125\n",
      "2000-01-01 07:00:00    55.23875\n",
      "2000-01-01 08:00:00    54.94625\n",
      "2000-01-01 09:00:00    54.65375\n",
      "2000-01-01 10:00:00    54.36125\n",
      "2000-01-01 11:00:00    54.06875\n",
      "2000-01-01 12:00:00    53.77625\n",
      "2000-01-01 13:00:00    53.48375\n",
      "2000-01-01 14:00:00    53.19125\n",
      "2000-01-01 15:00:00    52.89875\n",
      "2000-01-01 16:00:00    52.60625\n",
      "2000-01-01 17:00:00    52.35875\n",
      "2000-01-01 18:00:00    52.15625\n",
      "2000-01-01 19:00:00    51.95375\n",
      "2000-01-01 20:00:00    51.75125\n",
      "2000-01-01 21:00:00    51.54875\n",
      "2000-01-01 22:00:00    51.34625\n",
      "2000-01-01 23:00:00    51.14375\n",
      "2000-01-02 00:00:00    50.94125\n",
      "dtype: float64\n"
     ]
    }
   ],
   "source": [
    "for key, value in sim.get_results_by_pattern(\"OUT*Base0*\").items():\n",
    "    print(key)\n",
    "    print(value)   "
   ]
  },
  {
   "cell_type": "code",
   "execution_count": 6,
   "metadata": {},
   "outputs": [
    {
     "name": "stderr",
     "output_type": "stream",
     "text": [
      "INFO :: Matching results: Base1 - Tr_second\n",
      "INFO :: Matching results: Base1 - mdot\n"
     ]
    }
   ],
   "source": [
    "import matplotlib.pyplot as plt\n",
    "for key, value in sim.get_results_by_pattern(\"OUT*Base1*\").items():\n",
    "    plt.figure(figsize=(18, 8))\n",
    "    plt.plot(value, \"o-\", label=\"Treturn_DH\", alpha=1)\n",
    "    plt.legend()"
   ]
  },
  {
   "cell_type": "code",
   "execution_count": 7,
   "metadata": {},
   "outputs": [
    {
     "name": "stderr",
     "output_type": "stream",
     "text": [
      "INFO :: Matching results: Base0 - Treturn\n",
      "INFO :: Matching results: Base0 - mdot_return\n"
     ]
    },
    {
     "name": "stdout",
     "output_type": "stream",
     "text": [
      "IN||Base0||Treturn\n",
      "2000-01-01 01:00:00    49.231011\n",
      "2000-01-01 02:00:00    49.231011\n",
      "2000-01-01 02:00:00    49.118224\n",
      "2000-01-01 03:00:00    49.118224\n",
      "2000-01-01 03:00:00    48.946323\n",
      "2000-01-01 04:00:00    48.946323\n",
      "2000-01-01 04:00:00    48.747511\n",
      "2000-01-01 05:00:00    48.747511\n",
      "2000-01-01 05:00:00    48.535153\n",
      "2000-01-01 06:00:00    48.535153\n",
      "2000-01-01 06:00:00    48.315824\n",
      "2000-01-01 07:00:00    48.315824\n",
      "2000-01-01 07:00:00    48.091843\n",
      "2000-01-01 08:00:00    48.091843\n",
      "2000-01-01 08:00:00    47.859956\n",
      "2000-01-01 09:00:00    47.859956\n",
      "2000-01-01 09:00:00    47.617177\n",
      "2000-01-01 10:00:00    47.617177\n",
      "2000-01-01 10:00:00    47.367140\n",
      "2000-01-01 11:00:00    47.367140\n",
      "2000-01-01 11:00:00    47.123077\n",
      "2000-01-01 12:00:00    47.123077\n",
      "2000-01-01 12:00:00    46.892855\n",
      "2000-01-01 13:00:00    46.892855\n",
      "2000-01-01 13:00:00    46.673136\n",
      "2000-01-01 14:00:00    46.673136\n",
      "2000-01-01 14:00:00    46.457000\n",
      "2000-01-01 15:00:00    46.457000\n",
      "2000-01-01 15:00:00    46.221980\n",
      "2000-01-01 16:00:00    46.221980\n",
      "2000-01-01 16:00:00    45.963879\n",
      "2000-01-01 17:00:00    45.963879\n",
      "2000-01-01 17:00:00    45.698081\n",
      "2000-01-01 18:00:00    45.698081\n",
      "2000-01-01 18:00:00    45.430176\n",
      "2000-01-01 19:00:00    45.430176\n",
      "2000-01-01 19:00:00    45.165040\n",
      "2000-01-01 20:00:00    45.165040\n",
      "2000-01-01 20:00:00    44.908602\n",
      "2000-01-01 21:00:00    44.908602\n",
      "2000-01-01 21:00:00    44.664450\n",
      "2000-01-01 22:00:00    44.664450\n",
      "2000-01-01 22:00:00    44.434085\n",
      "2000-01-01 23:00:00    44.434085\n",
      "2000-01-01 23:00:00    44.217725\n",
      "2000-01-02 00:00:00    44.217725\n",
      "dtype: float64\n",
      "IN||Base0||mdot_return\n",
      "2000-01-01 01:00:00    0.021385\n",
      "2000-01-01 02:00:00    0.021385\n",
      "2000-01-01 02:00:00    0.019895\n",
      "2000-01-01 03:00:00    0.019895\n",
      "2000-01-01 03:00:00    0.018577\n",
      "2000-01-01 04:00:00    0.018577\n",
      "2000-01-01 04:00:00    0.017772\n",
      "2000-01-01 05:00:00    0.017772\n",
      "2000-01-01 05:00:00    0.017235\n",
      "2000-01-01 06:00:00    0.017235\n",
      "2000-01-01 06:00:00    0.016893\n",
      "2000-01-01 07:00:00    0.016893\n",
      "2000-01-01 07:00:00    0.016893\n",
      "2000-01-01 08:00:00    0.016893\n",
      "2000-01-01 08:00:00    0.017894\n",
      "2000-01-01 09:00:00    0.017894\n",
      "2000-01-01 09:00:00    0.019187\n",
      "2000-01-01 10:00:00    0.019187\n",
      "2000-01-01 10:00:00    0.019773\n",
      "2000-01-01 11:00:00    0.019773\n",
      "2000-01-01 11:00:00    0.017869\n",
      "2000-01-01 12:00:00    0.017869\n",
      "2000-01-01 12:00:00    0.016453\n",
      "2000-01-01 13:00:00    0.016453\n",
      "2000-01-01 13:00:00    0.015819\n",
      "2000-01-01 14:00:00    0.015819\n",
      "2000-01-01 14:00:00    0.016063\n",
      "2000-01-01 15:00:00    0.016063\n",
      "2000-01-01 15:00:00    0.020945\n",
      "2000-01-01 16:00:00    0.020945\n",
      "2000-01-01 16:00:00    0.024705\n",
      "2000-01-01 17:00:00    0.024705\n",
      "2000-01-01 17:00:00    0.026511\n",
      "2000-01-01 18:00:00    0.026511\n",
      "2000-01-01 18:00:00    0.027634\n",
      "2000-01-01 19:00:00    0.027634\n",
      "2000-01-01 19:00:00    0.028513\n",
      "2000-01-01 20:00:00    0.028513\n",
      "2000-01-01 20:00:00    0.028952\n",
      "2000-01-01 21:00:00    0.028952\n",
      "2000-01-01 21:00:00    0.029294\n",
      "2000-01-01 22:00:00    0.029294\n",
      "2000-01-01 22:00:00    0.029587\n",
      "2000-01-01 23:00:00    0.029587\n",
      "2000-01-01 23:00:00    0.029880\n",
      "2000-01-02 00:00:00    0.029880\n",
      "dtype: float64\n"
     ]
    }
   ],
   "source": [
    "for key, value in sim.get_results_by_pattern(\"IN*Base0*\").items():\n",
    "    print(key)\n",
    "    print(value)"
   ]
  },
  {
   "cell_type": "code",
   "execution_count": 8,
   "metadata": {},
   "outputs": [
    {
     "name": "stderr",
     "output_type": "stream",
     "text": [
      "INFO :: Matching results: Base1 - Ts_second\n"
     ]
    },
    {
     "name": "stdout",
     "output_type": "stream",
     "text": [
      "IN||Base1||Ts_second\n",
      "2000-01-01 00:00:00    56.99375\n",
      "2000-01-01 01:00:00    56.99375\n",
      "2000-01-01 01:00:00    56.70125\n",
      "2000-01-01 02:00:00    56.70125\n",
      "2000-01-01 02:00:00    56.40875\n",
      "2000-01-01 03:00:00    56.40875\n",
      "2000-01-01 03:00:00    56.11625\n",
      "2000-01-01 04:00:00    56.11625\n",
      "2000-01-01 04:00:00    55.82375\n",
      "2000-01-01 05:00:00    55.82375\n",
      "2000-01-01 05:00:00    55.53125\n",
      "2000-01-01 06:00:00    55.53125\n",
      "2000-01-01 06:00:00    55.23875\n",
      "2000-01-01 07:00:00    55.23875\n",
      "2000-01-01 07:00:00    54.94625\n",
      "2000-01-01 08:00:00    54.94625\n",
      "2000-01-01 08:00:00    54.65375\n",
      "2000-01-01 09:00:00    54.65375\n",
      "2000-01-01 09:00:00    54.36125\n",
      "2000-01-01 10:00:00    54.36125\n",
      "2000-01-01 10:00:00    54.06875\n",
      "2000-01-01 11:00:00    54.06875\n",
      "2000-01-01 11:00:00    53.77625\n",
      "2000-01-01 12:00:00    53.77625\n",
      "2000-01-01 12:00:00    53.48375\n",
      "2000-01-01 13:00:00    53.48375\n",
      "2000-01-01 13:00:00    53.19125\n",
      "2000-01-01 14:00:00    53.19125\n",
      "2000-01-01 14:00:00    52.89875\n",
      "2000-01-01 15:00:00    52.89875\n",
      "2000-01-01 15:00:00    52.60625\n",
      "2000-01-01 16:00:00    52.60625\n",
      "2000-01-01 16:00:00    52.35875\n",
      "2000-01-01 17:00:00    52.35875\n",
      "2000-01-01 17:00:00    52.15625\n",
      "2000-01-01 18:00:00    52.15625\n",
      "2000-01-01 18:00:00    51.95375\n",
      "2000-01-01 19:00:00    51.95375\n",
      "2000-01-01 19:00:00    51.75125\n",
      "2000-01-01 20:00:00    51.75125\n",
      "2000-01-01 20:00:00    51.54875\n",
      "2000-01-01 21:00:00    51.54875\n",
      "2000-01-01 21:00:00    51.34625\n",
      "2000-01-01 22:00:00    51.34625\n",
      "2000-01-01 22:00:00    51.14375\n",
      "2000-01-01 23:00:00    51.14375\n",
      "2000-01-01 23:00:00    50.94125\n",
      "dtype: float64\n"
     ]
    }
   ],
   "source": [
    "for key, value in sim.get_results_by_pattern(\"IN*Base1*\").items():\n",
    "    print(key)\n",
    "    print(value)"
   ]
  },
  {
   "cell_type": "code",
   "execution_count": 9,
   "metadata": {},
   "outputs": [
    {
     "name": "stderr",
     "output_type": "stream",
     "text": [
      "INFO :: Matching results: Base1 - Tr_second\n",
      "INFO :: Matching results: Base1 - mdot\n"
     ]
    },
    {
     "name": "stdout",
     "output_type": "stream",
     "text": [
      "OUT||Base1||Tr_second\n",
      "2000-01-01 01:00:00    49.231011\n",
      "2000-01-01 02:00:00    49.118224\n",
      "2000-01-01 03:00:00    48.946323\n",
      "2000-01-01 04:00:00    48.747511\n",
      "2000-01-01 05:00:00    48.535153\n",
      "2000-01-01 06:00:00    48.315824\n",
      "2000-01-01 07:00:00    48.091843\n",
      "2000-01-01 08:00:00    47.859956\n",
      "2000-01-01 09:00:00    47.617177\n",
      "2000-01-01 10:00:00    47.367140\n",
      "2000-01-01 11:00:00    47.123077\n",
      "2000-01-01 12:00:00    46.892855\n",
      "2000-01-01 13:00:00    46.673136\n",
      "2000-01-01 14:00:00    46.457000\n",
      "2000-01-01 15:00:00    46.221980\n",
      "2000-01-01 16:00:00    45.963879\n",
      "2000-01-01 17:00:00    45.698081\n",
      "2000-01-01 18:00:00    45.430176\n",
      "2000-01-01 19:00:00    45.165040\n",
      "2000-01-01 20:00:00    44.908602\n",
      "2000-01-01 21:00:00    44.664450\n",
      "2000-01-01 22:00:00    44.434085\n",
      "2000-01-01 23:00:00    44.217725\n",
      "2000-01-02 00:00:00    44.014931\n",
      "dtype: float64\n",
      "OUT||Base1||mdot\n",
      "2000-01-01 01:00:00    0.021385\n",
      "2000-01-01 02:00:00    0.019895\n",
      "2000-01-01 03:00:00    0.018577\n",
      "2000-01-01 04:00:00    0.017772\n",
      "2000-01-01 05:00:00    0.017235\n",
      "2000-01-01 06:00:00    0.016893\n",
      "2000-01-01 07:00:00    0.016893\n",
      "2000-01-01 08:00:00    0.017894\n",
      "2000-01-01 09:00:00    0.019187\n",
      "2000-01-01 10:00:00    0.019773\n",
      "2000-01-01 11:00:00    0.017869\n",
      "2000-01-01 12:00:00    0.016453\n",
      "2000-01-01 13:00:00    0.015819\n",
      "2000-01-01 14:00:00    0.016063\n",
      "2000-01-01 15:00:00    0.020945\n",
      "2000-01-01 16:00:00    0.024705\n",
      "2000-01-01 17:00:00    0.026511\n",
      "2000-01-01 18:00:00    0.027634\n",
      "2000-01-01 19:00:00    0.028513\n",
      "2000-01-01 20:00:00    0.028952\n",
      "2000-01-01 21:00:00    0.029294\n",
      "2000-01-01 22:00:00    0.029587\n",
      "2000-01-01 23:00:00    0.029880\n",
      "2000-01-02 00:00:00    0.030368\n",
      "dtype: float64\n"
     ]
    }
   ],
   "source": [
    "for key, value in sim.get_results_by_pattern(\"OUT*Base1*\").items():\n",
    "    print(key)\n",
    "    print(value)"
   ]
  },
  {
   "cell_type": "code",
   "execution_count": null,
   "metadata": {},
   "outputs": [],
   "source": []
  }
 ],
 "metadata": {
  "kernelspec": {
   "display_name": "Python 3",
   "language": "python",
   "name": "python3"
  },
  "language_info": {
   "codemirror_mode": {
    "name": "ipython",
    "version": 3
   },
   "file_extension": ".py",
   "mimetype": "text/x-python",
   "name": "python",
   "nbconvert_exporter": "python",
   "pygments_lexer": "ipython3",
   "version": "3.6.5"
  }
 },
 "nbformat": 4,
 "nbformat_minor": 2
}
