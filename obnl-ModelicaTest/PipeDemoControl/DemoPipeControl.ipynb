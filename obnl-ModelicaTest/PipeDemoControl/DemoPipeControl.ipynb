{
 "cells": [
  {
   "cell_type": "markdown",
   "metadata": {},
   "source": [
    "# Minimal dummy example with ictdeploy\n",
    "## Creating a co-simulation graph\n",
    "We consider the following two nodes graph as a minimal dummy example of two nodes exchanging a variable and randomly add or substract a given value from it:\n",
    "\n",
    "<img src=\"./figures/model.png\" alt=\"Model\" style=\"width: 500px;\"/>\n",
    "\n",
    "The above graph can be created using ictdeploy as follow:"
   ]
  },
  {
   "cell_type": "code",
   "execution_count": null,
   "metadata": {},
   "outputs": [],
   "source": [
    "import os\n",
    "from ictdeploy import Simulator as Sim"
   ]
  },
  {
   "cell_type": "code",
   "execution_count": null,
   "metadata": {},
   "outputs": [],
   "source": [
    "#create empty simulator\n",
    "sim = Sim()"
   ]
  },
  {
   "cell_type": "code",
   "execution_count": null,
   "metadata": {},
   "outputs": [],
   "source": [
    "#create Meta-model\n",
    "sim.edit.add_meta(\n",
    "        name=\"BaseMeta\",\n",
    "        set_attrs=[\"sou.T_in\"],\n",
    "        get_attrs=[\"senTemOut.T\"]\n",
    "    )"
   ]
  },
  {
   "cell_type": "code",
   "execution_count": null,
   "metadata": {},
   "outputs": [],
   "source": [
    "#create Meta-model\n",
    "sim.edit.add_meta(\n",
    "        name=\"Base2Meta\",\n",
    "        set_attrs=[\"Tsupply\"],\n",
    "        get_attrs=[\"Tindoor\"]\n",
    "    )"
   ]
  },
  {
   "cell_type": "code",
   "execution_count": null,
   "metadata": {},
   "outputs": [],
   "source": [
    "#create Model\n",
    "sim.edit.add_model(\n",
    "        name=\"BaseModel\",\n",
    "        meta=\"BaseMeta\",\n",
    "        image=\"\",\n",
    "        wrapper=os.path.join(\"wrappers\", \"base_wrap.py\"),\n",
    "        command=None,\n",
    "        files=[os.path.join(\"files_to_add\", \"IBPSA_Fluid_FixedResistances_Examples_PlugFlowPipe.fmu\")]\n",
    "    )"
   ]
  },
  {
   "cell_type": "code",
   "execution_count": null,
   "metadata": {},
   "outputs": [],
   "source": [
    "#create Model\n",
    "sim.edit.add_model(\n",
    "        name=\"Base2Model\",\n",
    "        meta=\"Base2Meta\",\n",
    "        image=\"integrcity/ict-simple\",\n",
    "        wrapper=os.path.join(\"wrappers\", \"building_wrap.py\"),\n",
    "        command=None,\n",
    "        files=[os.path.join(\"files_to_add\", \"empty_file.txt\")]\n",
    "    )"
   ]
  },
  {
   "cell_type": "markdown",
   "metadata": {},
   "source": [
    "Now that our `Meta-models` and `Models` have been created, we can populate our `Simulator` with `Nodes` as follow:"
   ]
  },
  {
   "cell_type": "code",
   "execution_count": null,
   "metadata": {},
   "outputs": [],
   "source": [
    "#add node\n",
    "sim.edit.add_node(\n",
    "        name=\"Base0\",\n",
    "        model=\"BaseModel\",\n",
    "        init_values={},\n",
    "        is_first=True,\n",
    "        is_local=True\n",
    "    )"
   ]
  },
  {
   "cell_type": "code",
   "execution_count": null,
   "metadata": {},
   "outputs": [],
   "source": [
    "#add node\n",
    "sim.edit.add_node(\n",
    "        name=\"Base1\",\n",
    "        model=\"Base2Model\",\n",
    "        init_values={}        \n",
    "    )"
   ]
  },
  {
   "cell_type": "markdown",
   "metadata": {},
   "source": [
    "And add `Links` between the created `Nodes` as follow:"
   ]
  },
  {
   "cell_type": "code",
   "execution_count": null,
   "metadata": {},
   "outputs": [],
   "source": [
    "sim.edit.add_link(get_node=\"Base0\", get_attr=\"senTemOut.T\", set_node=\"Base1\", set_attr=\"Tsupply\")\n",
    "sim.edit.add_link(get_node=\"Base1\", get_attr=\"Tindoor\", set_node=\"Base0\", set_attr=\"sou.T_in\")"
   ]
  },
  {
   "cell_type": "markdown",
   "metadata": {},
   "source": [
    "## Data structure\n",
    "The created co-simulation graph can be described by the following tables, gathering information about `Nodes` and `Links`."
   ]
  },
  {
   "cell_type": "code",
   "execution_count": null,
   "metadata": {},
   "outputs": [],
   "source": [
    "sim.edit.nodes"
   ]
  },
  {
   "cell_type": "code",
   "execution_count": null,
   "metadata": {},
   "outputs": [],
   "source": [
    "sim.edit.links"
   ]
  },
  {
   "cell_type": "markdown",
   "metadata": {},
   "source": [
    "## Simulation parameters\n",
    "Based on the created co-simulation graph, we can now create `Groups`, `Sequence` and `Steps` for the simulation as follow:"
   ]
  },
  {
   "cell_type": "code",
   "execution_count": null,
   "metadata": {},
   "outputs": [],
   "source": [
    "grp0 = sim.create_group(\"Base0\")\n",
    "grp1 = sim.create_group(\"Base1\")"
   ]
  },
  {
   "cell_type": "code",
   "execution_count": null,
   "metadata": {},
   "outputs": [],
   "source": [
    "sim.create_sequence(grp0, grp1)\n",
    "sim.create_steps([60] * 60)"
   ]
  },
  {
   "cell_type": "markdown",
   "metadata": {},
   "source": [
    "## Running simulation\n",
    "Everything is ready, we just have to run the simulation using `Simulator.run_simulation()`"
   ]
  },
  {
   "cell_type": "code",
   "execution_count": null,
   "metadata": {},
   "outputs": [],
   "source": [
    "logs = sim.run_simulation(server=\"server.py\")"
   ]
  },
  {
   "cell_type": "code",
   "execution_count": null,
   "metadata": {},
   "outputs": [],
   "source": [
    "print(logs[\"nodes\"][\"Base0\"].replace(\"172.17.01\", \"localhost\"))"
   ]
  },
  {
   "cell_type": "code",
   "execution_count": null,
   "metadata": {
    "scrolled": true
   },
   "outputs": [],
   "source": [
    "for l in sim.get_logs(logs[\"orc\"]):\n",
    "    if \"INFO\" in l:\n",
    "        print(l)"
   ]
  },
  {
   "cell_type": "markdown",
   "metadata": {},
   "source": [
    "## Retrieving results\n",
    "Now that the simulation is finished, we can connect to the database of results and list all the available stored values as follow:"
   ]
  },
  {
   "cell_type": "code",
   "execution_count": null,
   "metadata": {},
   "outputs": [],
   "source": [
    "sim.results.connect_to_results_db(host=\"localhost\")\n",
    "sim.results.list_of_available_results"
   ]
  },
  {
   "cell_type": "markdown",
   "metadata": {},
   "source": [
    "Based on the preceding available stored values, we can choose wich results to get using a pattern matching the name of the selected values."
   ]
  },
  {
   "cell_type": "code",
   "execution_count": null,
   "metadata": {},
   "outputs": [],
   "source": [
    "results = sim.results.get_results_by_pattern(\"OUT*\")\n",
    "results.keys()"
   ]
  },
  {
   "cell_type": "markdown",
   "metadata": {},
   "source": [
    "And finnaly, we plot the selected results using `matplotlib`."
   ]
  },
  {
   "cell_type": "code",
   "execution_count": null,
   "metadata": {},
   "outputs": [],
   "source": [
    "import networkx as nx\n",
    "import matplotlib.pyplot as plt"
   ]
  },
  {
   "cell_type": "code",
   "execution_count": null,
   "metadata": {},
   "outputs": [],
   "source": [
    "plt.figure(figsize=(9, 6))\n",
    "plt.plot(results['OUT||Base0||senTemOut.T'], \"-o\", label=\"Base0 - senTemOut.T\", alpha=0.5)\n",
    "plt.plot(results['OUT||Base1||Tindoor'], \"-o\", label=\"Base1 - Tindoor\", alpha=0.5)\n",
    "plt.legend()"
   ]
  }
 ],
 "metadata": {
  "kernelspec": {
   "display_name": "Python 3",
   "language": "python",
   "name": "python3"
  },
  "language_info": {
   "codemirror_mode": {
    "name": "ipython",
    "version": 3
   },
   "file_extension": ".py",
   "mimetype": "text/x-python",
   "name": "python",
   "nbconvert_exporter": "python",
   "pygments_lexer": "ipython3",
   "version": "3.6.5"
  }
 },
 "nbformat": 4,
 "nbformat_minor": 1
}
