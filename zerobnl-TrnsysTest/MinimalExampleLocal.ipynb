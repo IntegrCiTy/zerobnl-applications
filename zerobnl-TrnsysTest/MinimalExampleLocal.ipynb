{
 "cells": [
  {
   "cell_type": "code",
   "execution_count": 1,
   "metadata": {},
   "outputs": [],
   "source": [
    "import os\n",
    "from zerobnl import Simulator as Sim"
   ]
  },
  {
   "cell_type": "code",
   "execution_count": 2,
   "metadata": {
    "scrolled": true
   },
   "outputs": [
    {
     "name": "stderr",
     "output_type": "stream",
     "text": [
      "INFO :: Meta-model BaseMeta created.\n",
      "INFO :: Meta-model TrnsysMeta created.\n",
      "INFO :: Model BaseModel created.\n",
      "INFO :: Model TrnsysModel created.\n",
      "INFO :: Node Base0 created.\n",
      "INFO :: Node Base1 created.\n",
      "INFO :: Link created Base0 -> Base1.\n",
      "INFO :: Link created Base1 -> Base0.\n",
      "INFO :: The group ('Base0',) have been created.\n",
      "INFO :: The group ('Base1',) have been created.\n",
      "INFO :: The sequence [['GRP0', ('Base0',)], ['GRP1', ('Base1',)]] have been created.\n",
      "INFO :: 24 steps have been created.\n"
     ]
    }
   ],
   "source": [
    "sim = Sim()\n",
    "\n",
    "sim.edit.add_meta(name=\"BaseMeta\", set_attrs=[\"a\"], get_attrs=[\"b\"])\n",
    "sim.edit.add_meta(name=\"TrnsysMeta\", set_attrs=[\"Tindoor\"], get_attrs=[\"Tsupply\"])\n",
    "\n",
    "sim.edit.add_model(\n",
    "    name=\"BaseModel\",\n",
    "    meta=\"BaseMeta\",\n",
    "    wrapper=\"wrapper_base.py\",\n",
    "    dockerfile=\"Dockerfile_base\",    \n",
    ")\n",
    "\n",
    "sim.edit.add_model(\n",
    "    \"TrnsysModel\",\n",
    "    \"TrnsysMeta\",\n",
    "    \"wrapper_trnsys.py\", \n",
    "    \"\",\n",
    "    \"HES3_2__TES1_1__EEG0__EES0.fmu\",\n",
    ")\n",
    "\n",
    "sim.edit.add_node(name=\"Base0\", model=\"BaseModel\", init_values={\"c\": 0.50})\n",
    "\n",
    "sim.edit.add_node(name=\"Base1\", model=\"TrnsysModel\", init_values={}, is_local=True)\n",
    "\n",
    "sim.edit.add_link(get_node=\"Base0\", get_attr=\"b\", set_node=\"Base1\", set_attr=\"Tindoor\")\n",
    "sim.edit.add_link(get_node=\"Base1\", get_attr=\"Tsupply\", set_node=\"Base0\", set_attr=\"a\")\n",
    "\n",
    "grp0 = sim.edit.create_group(\"GRP0\", \"Base0\")\n",
    "grp1 = sim.edit.create_group(\"GRP1\", \"Base1\")\n",
    "\n",
    "sim.edit.create_sequence(grp0, grp1)\n",
    "sim.edit.create_steps([3600] * 24)"
   ]
  },
  {
   "cell_type": "markdown",
   "metadata": {},
   "source": [
    "Once the next step has been launched, logging `INFO :: Waiting for local nodes to run..`, you need to run tho following command `wrapper_trnsys.py Base1 GRP1` in the indicated folder (in a dedicated environment) in order to run the local node."
   ]
  },
  {
   "cell_type": "code",
   "execution_count": 3,
   "metadata": {
    "scrolled": true
   },
   "outputs": [
    {
     "name": "stderr",
     "output_type": "stream",
     "text": [
      "INFO :: Starting the simulation's deployment...\n",
      "WARNING :: Local node to run in [TMP_FOLDER\\base1] > python wrapper_trnsys.py Base1 GRP1\n",
      "INFO :: Starting simulation...\n",
      "INFO :: Waiting for local nodes to run...\n",
      "INFO :: Simulation finished in 0 min and 43 sec\n"
     ]
    }
   ],
   "source": [
    "sim.run_simulation()"
   ]
  },
  {
   "cell_type": "code",
   "execution_count": 4,
   "metadata": {},
   "outputs": [
    {
     "name": "stderr",
     "output_type": "stream",
     "text": [
      "INFO :: Connected to Redis DB\n"
     ]
    },
    {
     "data": {
      "text/html": [
       "<div>\n",
       "<style scoped>\n",
       "    .dataframe tbody tr th:only-of-type {\n",
       "        vertical-align: middle;\n",
       "    }\n",
       "\n",
       "    .dataframe tbody tr th {\n",
       "        vertical-align: top;\n",
       "    }\n",
       "\n",
       "    .dataframe thead th {\n",
       "        text-align: right;\n",
       "    }\n",
       "</style>\n",
       "<table border=\"1\" class=\"dataframe\">\n",
       "  <thead>\n",
       "    <tr style=\"text-align: right;\">\n",
       "      <th></th>\n",
       "      <th>IN/OUT</th>\n",
       "      <th>Node</th>\n",
       "      <th>Attribute</th>\n",
       "    </tr>\n",
       "  </thead>\n",
       "  <tbody>\n",
       "    <tr>\n",
       "      <th>0</th>\n",
       "      <td>IN</td>\n",
       "      <td>Base1</td>\n",
       "      <td>Tindoor</td>\n",
       "    </tr>\n",
       "    <tr>\n",
       "      <th>1</th>\n",
       "      <td>X</td>\n",
       "      <td>Base0</td>\n",
       "      <td>y</td>\n",
       "    </tr>\n",
       "    <tr>\n",
       "      <th>2</th>\n",
       "      <td>OUT</td>\n",
       "      <td>Base0</td>\n",
       "      <td>b</td>\n",
       "    </tr>\n",
       "    <tr>\n",
       "      <th>3</th>\n",
       "      <td>OUT</td>\n",
       "      <td>Base1</td>\n",
       "      <td>Tsupply</td>\n",
       "    </tr>\n",
       "    <tr>\n",
       "      <th>4</th>\n",
       "      <td>IN</td>\n",
       "      <td>Base0</td>\n",
       "      <td>a</td>\n",
       "    </tr>\n",
       "  </tbody>\n",
       "</table>\n",
       "</div>"
      ],
      "text/plain": [
       "  IN/OUT   Node Attribute\n",
       "0     IN  Base1   Tindoor\n",
       "1      X  Base0         y\n",
       "2    OUT  Base0         b\n",
       "3    OUT  Base1   Tsupply\n",
       "4     IN  Base0         a"
      ]
     },
     "execution_count": 4,
     "metadata": {},
     "output_type": "execute_result"
    }
   ],
   "source": [
    "sim.results.connect_to_results_db()\n",
    "sim.results.list_of_available_results"
   ]
  },
  {
   "cell_type": "code",
   "execution_count": 5,
   "metadata": {},
   "outputs": [
    {
     "name": "stderr",
     "output_type": "stream",
     "text": [
      "INFO :: Matching results: Base0 - a\n"
     ]
    },
    {
     "name": "stdout",
     "output_type": "stream",
     "text": [
      "2000-01-01 01:00:00      60.0\n",
      "2000-01-01 02:00:00     119.5\n",
      "2000-01-01 03:00:00     180.0\n",
      "2000-01-01 04:00:00     240.0\n",
      "2000-01-01 05:00:00     300.5\n",
      "2000-01-01 06:00:00     361.0\n",
      "2000-01-01 07:00:00     420.5\n",
      "2000-01-01 08:00:00     481.0\n",
      "2000-01-01 09:00:00     541.0\n",
      "2000-01-01 10:00:00     601.0\n",
      "2000-01-01 11:00:00     660.5\n",
      "2000-01-01 12:00:00     720.0\n",
      "2000-01-01 13:00:00     780.5\n",
      "2000-01-01 14:00:00     840.0\n",
      "2000-01-01 15:00:00     900.5\n",
      "2000-01-01 16:00:00     961.0\n",
      "2000-01-01 17:00:00    1021.5\n",
      "2000-01-01 18:00:00    1081.0\n",
      "2000-01-01 19:00:00    1140.5\n",
      "2000-01-01 20:00:00    1200.0\n",
      "2000-01-01 21:00:00    1260.5\n",
      "2000-01-01 22:00:00    1320.0\n",
      "2000-01-01 23:00:00    1379.5\n",
      "dtype: float64\n"
     ]
    }
   ],
   "source": [
    "for key, value in sim.results.get_results_by_pattern(\"IN*Base0*\").items():\n",
    "    print(value)    "
   ]
  },
  {
   "cell_type": "code",
   "execution_count": 6,
   "metadata": {},
   "outputs": [
    {
     "name": "stderr",
     "output_type": "stream",
     "text": [
      "INFO :: Matching results: Base1 - Tindoor\n"
     ]
    },
    {
     "name": "stdout",
     "output_type": "stream",
     "text": [
      "2000-01-01 01:00:00      59.5\n",
      "2000-01-01 02:00:00     120.0\n",
      "2000-01-01 03:00:00     180.0\n",
      "2000-01-01 04:00:00     240.5\n",
      "2000-01-01 05:00:00     301.0\n",
      "2000-01-01 06:00:00     360.5\n",
      "2000-01-01 07:00:00     421.0\n",
      "2000-01-01 08:00:00     481.0\n",
      "2000-01-01 09:00:00     541.0\n",
      "2000-01-01 10:00:00     600.5\n",
      "2000-01-01 11:00:00     660.0\n",
      "2000-01-01 12:00:00     720.5\n",
      "2000-01-01 13:00:00     780.0\n",
      "2000-01-01 14:00:00     840.5\n",
      "2000-01-01 15:00:00     901.0\n",
      "2000-01-01 16:00:00     961.5\n",
      "2000-01-01 17:00:00    1021.0\n",
      "2000-01-01 18:00:00    1080.5\n",
      "2000-01-01 19:00:00    1140.0\n",
      "2000-01-01 20:00:00    1200.5\n",
      "2000-01-01 21:00:00    1260.0\n",
      "2000-01-01 22:00:00    1319.5\n",
      "2000-01-01 23:00:00    1379.5\n",
      "dtype: float64\n"
     ]
    }
   ],
   "source": [
    "for key, value in sim.results.get_results_by_pattern(\"IN*Base1*\").items():\n",
    "    print(value)"
   ]
  }
 ],
 "metadata": {
  "kernelspec": {
   "display_name": "Python 3",
   "language": "python",
   "name": "python3"
  },
  "language_info": {
   "codemirror_mode": {
    "name": "ipython",
    "version": 3
   },
   "file_extension": ".py",
   "mimetype": "text/x-python",
   "name": "python",
   "nbconvert_exporter": "python",
   "pygments_lexer": "ipython3",
   "version": "3.6.5"
  }
 },
 "nbformat": 4,
 "nbformat_minor": 2
}
