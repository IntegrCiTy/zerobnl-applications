{
 "cells": [
  {
   "cell_type": "code",
   "execution_count": null,
   "metadata": {},
   "outputs": [],
   "source": [
    "import os\n",
    "from zerobnl import Simulator as Sim"
   ]
  },
  {
   "cell_type": "code",
   "execution_count": null,
   "metadata": {
    "scrolled": true
   },
   "outputs": [],
   "source": [
    "sim = Sim()\n",
    "\n",
    "sim.edit.add_meta(name=\"BaseMeta\", set_attrs=[\"a\"], get_attrs=[\"b\"])\n",
    "sim.edit.add_meta(name=\"TrnsysMeta\", set_attrs=[\"Tindoor\"], get_attrs=[\"Tsupply\"])\n",
    "\n",
    "sim.edit.add_model(\n",
    "    name=\"BaseModel\",\n",
    "    meta=\"BaseMeta\",\n",
    "    wrapper=\"wrapper_base.py\",\n",
    "    dockerfile=\"Dockerfile_base\",    \n",
    ")\n",
    "\n",
    "sim.edit.add_model(\n",
    "    \"TrnsysModel\",\n",
    "    \"TrnsysMeta\",\n",
    "    \"wrapper_trnsys.py\", \n",
    "    \"\",\n",
    "    \"HES3_2__TES1_1__EEG0__EES0.fmu\",\n",
    ")\n",
    "\n",
    "sim.edit.add_node(name=\"Base0\", model=\"BaseModel\", init_values={\"c\": 0.50})\n",
    "\n",
    "sim.edit.add_node(name=\"Base1\", model=\"TrnsysModel\", init_values={}, is_local=True)\n",
    "\n",
    "sim.edit.add_link(get_node=\"Base0\", get_attr=\"b\", set_node=\"Base1\", set_attr=\"Tindoor\")\n",
    "sim.edit.add_link(get_node=\"Base1\", get_attr=\"Tsupply\", set_node=\"Base0\", set_attr=\"a\")\n",
    "\n",
    "grp0 = sim.edit.create_group(\"GRP0\", \"Base0\")\n",
    "grp1 = sim.edit.create_group(\"GRP1\", \"Base1\")\n",
    "\n",
    "sim.edit.create_sequence(grp0, grp1)\n",
    "sim.edit.create_steps([3600] * 24)"
   ]
  },
  {
   "cell_type": "markdown",
   "metadata": {},
   "source": [
    "Once the next step has been launched, logging `INFO :: Waiting for local nodes to run..`, you need to run tho following command `wrapper_trnsys.py Base1 GRP1` in the indicated folder (in a dedicated environment) in order to run the local node."
   ]
  },
  {
   "cell_type": "code",
   "execution_count": null,
   "metadata": {
    "scrolled": true
   },
   "outputs": [],
   "source": [
    "sim.run_simulation()"
   ]
  },
  {
   "cell_type": "code",
   "execution_count": null,
   "metadata": {},
   "outputs": [],
   "source": [
    "sim.results.connect_to_results_db()\n",
    "sim.results.list_of_available_results"
   ]
  },
  {
   "cell_type": "code",
   "execution_count": null,
   "metadata": {},
   "outputs": [],
   "source": [
    "for key, value in sim.results.get_results_by_pattern(\"IN*Base0*\").items():\n",
    "    print(value)    "
   ]
  },
  {
   "cell_type": "code",
   "execution_count": null,
   "metadata": {},
   "outputs": [],
   "source": [
    "for key, value in sim.results.get_results_by_pattern(\"IN*Base1*\").items():\n",
    "    print(value)"
   ]
  }
 ],
 "metadata": {
  "kernelspec": {
   "display_name": "Python 3",
   "language": "python",
   "name": "python3"
  },
  "language_info": {
   "codemirror_mode": {
    "name": "ipython",
    "version": 3
   },
   "file_extension": ".py",
   "mimetype": "text/x-python",
   "name": "python",
   "nbconvert_exporter": "python",
   "pygments_lexer": "ipython3",
   "version": "3.6.5"
  }
 },
 "nbformat": 4,
 "nbformat_minor": 2
}
