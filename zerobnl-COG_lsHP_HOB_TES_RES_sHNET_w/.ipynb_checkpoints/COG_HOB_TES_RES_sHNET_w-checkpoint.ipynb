{
 "cells": [
  {
   "cell_type": "markdown",
   "metadata": {},
   "source": [
    "# EnergyPlus and TRNSYS Example"
   ]
  },
  {
   "cell_type": "code",
   "execution_count": 1,
   "metadata": {},
   "outputs": [],
   "source": [
    "import os\n",
    "from zerobnl import CoSim"
   ]
  },
  {
   "cell_type": "markdown",
   "metadata": {},
   "source": [
    "You can safely ignore the following error (it will also be in the nodes logs):\n",
    "\n",
    "RuntimeWarning: numpy.dtype size changed, may indicate binary incompatibility. Expected 96, got 88\n",
    "\n",
    "-> [Numpy documentation](https://github.com/numpy/numpy/pull/432)"
   ]
  },
  {
   "cell_type": "code",
   "execution_count": 2,
   "metadata": {
    "scrolled": true
   },
   "outputs": [
    {
     "ename": "AssertionError",
     "evalue": "Attribute TES_soo is not defined for node Base5!",
     "output_type": "error",
     "traceback": [
      "\u001b[1;31m---------------------------------------------------------------------------\u001b[0m",
      "\u001b[1;31mAssertionError\u001b[0m                            Traceback (most recent call last)",
      "\u001b[1;32m<ipython-input-2-f52bb01fa8b3>\u001b[0m in \u001b[0;36m<module>\u001b[1;34m()\u001b[0m\n\u001b[0;32m     71\u001b[0m \u001b[0msim\u001b[0m\u001b[1;33m.\u001b[0m\u001b[0madd_link\u001b[0m\u001b[1;33m(\u001b[0m\u001b[1;34m\"Base5\"\u001b[0m\u001b[1;33m,\u001b[0m \u001b[1;34m\"TES_ToutD\"\u001b[0m\u001b[1;33m,\u001b[0m \u001b[1;34m\"Base8\"\u001b[0m\u001b[1;33m,\u001b[0m \u001b[1;34m\"Tin2\"\u001b[0m\u001b[1;33m)\u001b[0m \u001b[1;31m# ok - Direct interaction TES - HOB (dis)\u001b[0m\u001b[1;33m\u001b[0m\u001b[0m\n\u001b[0;32m     72\u001b[0m \u001b[0msim\u001b[0m\u001b[1;33m.\u001b[0m\u001b[0madd_link\u001b[0m\u001b[1;33m(\u001b[0m\u001b[1;34m\"Base5\"\u001b[0m\u001b[1;33m,\u001b[0m \u001b[1;34m\"TES_MDOToutD\"\u001b[0m\u001b[1;33m,\u001b[0m \u001b[1;34m\"Base8\"\u001b[0m\u001b[1;33m,\u001b[0m \u001b[1;34m\"mdot2\"\u001b[0m\u001b[1;33m)\u001b[0m \u001b[1;31m# ok Total - Direct interaction TES - HOB (dis)\u001b[0m\u001b[1;33m\u001b[0m\u001b[0m\n\u001b[1;32m---> 73\u001b[1;33m \u001b[0msim\u001b[0m\u001b[1;33m.\u001b[0m\u001b[0madd_link\u001b[0m\u001b[1;33m(\u001b[0m\u001b[1;34m\"Base5\"\u001b[0m\u001b[1;33m,\u001b[0m \u001b[1;34m\"TES_soo\"\u001b[0m\u001b[1;33m,\u001b[0m \u001b[1;34m\"Base8\"\u001b[0m\u001b[1;33m,\u001b[0m \u001b[1;34m\"soo2\"\u001b[0m\u001b[1;33m)\u001b[0m \u001b[1;31m# ok Total - Direct interaction TES - HOB (dis)\u001b[0m\u001b[1;33m\u001b[0m\u001b[0m\n\u001b[0m\u001b[0;32m     74\u001b[0m \u001b[0msim\u001b[0m\u001b[1;33m.\u001b[0m\u001b[0madd_link\u001b[0m\u001b[1;33m(\u001b[0m\u001b[1;34m\"Base5\"\u001b[0m\u001b[1;33m,\u001b[0m \u001b[1;34m\"TES_socOUT\"\u001b[0m\u001b[1;33m,\u001b[0m \u001b[1;34m\"Base0\"\u001b[0m\u001b[1;33m,\u001b[0m \u001b[1;34m\"TES_socIN\"\u001b[0m\u001b[1;33m)\u001b[0m \u001b[1;31m# ok\u001b[0m\u001b[1;33m\u001b[0m\u001b[0m\n\u001b[0;32m     75\u001b[0m \u001b[1;33m\u001b[0m\u001b[0m\n",
      "\u001b[1;32mc:\\sourcecodes\\zerobnl\\zerobnl\\simulation\\create.py\u001b[0m in \u001b[0;36madd_link\u001b[1;34m(self, get_node, get_attr, set_node, set_attr)\u001b[0m\n\u001b[0;32m     80\u001b[0m         \u001b[1;33m:\u001b[0m\u001b[0mparam\u001b[0m \u001b[0mset_attr\u001b[0m\u001b[1;33m:\u001b[0m\u001b[1;33m\u001b[0m\u001b[0m\n\u001b[0;32m     81\u001b[0m         \"\"\"\n\u001b[1;32m---> 82\u001b[1;33m         \u001b[0mget_unit\u001b[0m \u001b[1;33m=\u001b[0m \u001b[0mself\u001b[0m\u001b[1;33m.\u001b[0m\u001b[0mcheck_node_attr_exists_and_return_unit\u001b[0m\u001b[1;33m(\u001b[0m\u001b[0mget_node\u001b[0m\u001b[1;33m,\u001b[0m \u001b[0mget_attr\u001b[0m\u001b[1;33m,\u001b[0m \u001b[1;34m\"ToGet\"\u001b[0m\u001b[1;33m)\u001b[0m\u001b[1;33m\u001b[0m\u001b[0m\n\u001b[0m\u001b[0;32m     83\u001b[0m         \u001b[0mset_unit\u001b[0m \u001b[1;33m=\u001b[0m \u001b[0mself\u001b[0m\u001b[1;33m.\u001b[0m\u001b[0mcheck_node_attr_exists_and_return_unit\u001b[0m\u001b[1;33m(\u001b[0m\u001b[0mset_node\u001b[0m\u001b[1;33m,\u001b[0m \u001b[0mset_attr\u001b[0m\u001b[1;33m,\u001b[0m \u001b[1;34m\"ToSet\"\u001b[0m\u001b[1;33m)\u001b[0m\u001b[1;33m\u001b[0m\u001b[0m\n\u001b[0;32m     84\u001b[0m \u001b[1;33m\u001b[0m\u001b[0m\n",
      "\u001b[1;32mc:\\sourcecodes\\zerobnl\\zerobnl\\simulation\\create.py\u001b[0m in \u001b[0;36mcheck_node_attr_exists_and_return_unit\u001b[1;34m(self, node, attr, set_or_get)\u001b[0m\n\u001b[0;32m    100\u001b[0m \u001b[1;33m\u001b[0m\u001b[0m\n\u001b[0;32m    101\u001b[0m         \u001b[0mdict_attr_unit\u001b[0m \u001b[1;33m=\u001b[0m \u001b[1;33m{\u001b[0m\u001b[0mn\u001b[0m\u001b[1;33m[\u001b[0m\u001b[1;36m0\u001b[0m\u001b[1;33m]\u001b[0m\u001b[1;33m:\u001b[0m \u001b[0mn\u001b[0m\u001b[1;33m[\u001b[0m\u001b[1;36m1\u001b[0m\u001b[1;33m]\u001b[0m \u001b[1;32mfor\u001b[0m \u001b[0mn\u001b[0m \u001b[1;32min\u001b[0m \u001b[0mself\u001b[0m\u001b[1;33m.\u001b[0m\u001b[0mnodes\u001b[0m\u001b[1;33m.\u001b[0m\u001b[0mloc\u001b[0m\u001b[1;33m[\u001b[0m\u001b[0mnode\u001b[0m\u001b[1;33m]\u001b[0m\u001b[1;33m[\u001b[0m\u001b[0mset_or_get\u001b[0m\u001b[1;33m]\u001b[0m\u001b[1;33m}\u001b[0m\u001b[1;33m\u001b[0m\u001b[0m\n\u001b[1;32m--> 102\u001b[1;33m         \u001b[1;32massert\u001b[0m \u001b[0mattr\u001b[0m \u001b[1;32min\u001b[0m \u001b[0mdict_attr_unit\u001b[0m\u001b[1;33m.\u001b[0m\u001b[0mkeys\u001b[0m\u001b[1;33m(\u001b[0m\u001b[1;33m)\u001b[0m\u001b[1;33m,\u001b[0m \u001b[1;34m\"Attribute {} is not defined for node {}!\"\u001b[0m\u001b[1;33m.\u001b[0m\u001b[0mformat\u001b[0m\u001b[1;33m(\u001b[0m\u001b[0mattr\u001b[0m\u001b[1;33m,\u001b[0m \u001b[0mnode\u001b[0m\u001b[1;33m)\u001b[0m\u001b[1;33m\u001b[0m\u001b[0m\n\u001b[0m\u001b[0;32m    103\u001b[0m \u001b[1;33m\u001b[0m\u001b[0m\n\u001b[0;32m    104\u001b[0m         \u001b[1;32mreturn\u001b[0m \u001b[0mdict_attr_unit\u001b[0m\u001b[1;33m[\u001b[0m\u001b[0mattr\u001b[0m\u001b[1;33m]\u001b[0m\u001b[1;33m\u001b[0m\u001b[0m\n",
      "\u001b[1;31mAssertionError\u001b[0m: Attribute TES_soo is not defined for node Base5!"
     ]
    }
   ],
   "source": [
    "sim = CoSim()\n",
    "\n",
    "# There are 4 environments in this example.\n",
    "\n",
    "sim.create_meta_model(\"MetaPLANT\", [(\"COG_QDH\", \"kW\"),(\"COG_FlagIN\",\"-\")], [(\"COG_Tout\", \"Cdeg\"),(\"COG_MDOTtot\", \"kgs\"),(\"COG_MDOTtoTES\", \"kgs\"),(\"COG_MDOTfromTES\", \"kgs\"),(\"COG_TTESin\", \"Cdeg\"),(\"COG_soo\", \"-\"),(\"COG_MDOTtoLOAD\", \"kgs\")]) # Set, Get\n",
    "sim.create_environment(\"EnvPLANT\", \"wrapper_plant.py\", \"Dockerfile_na\")\n",
    "\n",
    "sim.create_meta_model(\"MetaTES\", [(\"TES_FlagIN\", \"-\"),(\"TES_Tin\",\"Cdeg\"),(\"TES_MDOTinC\",\"kgs\"),(\"TES_MDOTinD\",\"kgs\")],[(\"TES_ToutD\", \"Cdeg\"),(\"TES_socOUT\", \"-\"),(\"TES_MDOToutD\", \"kgs\"),(\"TES_soo\", \"-\")]) # Set, Get\n",
    "sim.create_environment(\"EnvTES\", \"wrapper_tes.py\", \"Dockerfile_tes\")\n",
    "\n",
    "sim.create_meta_model(\"MetaHOB\", [(\"HOB_Tset\", \"Cdeg\"),(\"HOB_FlagIN\",\"-\"),(\"HOB_mdotIN\",\"kgs\"),(\"HOB_Tin\",\"Cdeg\")],[]) # Set, Get\n",
    "sim.create_environment(\"EnvHOB\", \"wrapper_hob.py\", \"Dockerfile_hob\")\n",
    "\n",
    "sim.create_meta_model(\"MetaDEM1\", [(\"Tthermostat\", \"Cdeg\")], [(\"QDH\", \"W\"),(\"Tindoor\",\"Cdeg\")]) # Set, Get\n",
    "sim.create_environment(\"EnvDEM1\", \"wrapper_dem1.py\", \"Dockerfile_na\")\n",
    "sim.create_meta_model(\"MetaDEM2\", [(\"Tthermostat\", \"Cdeg\")], [(\"QDH\", \"W\"),(\"Tindoor\",\"Cdeg\")]) # Set, Get\n",
    "sim.create_environment(\"EnvDEM2\", \"wrapper_dem2.py\", \"Dockerfile_na\")\n",
    "\n",
    "sim.create_meta_model(\"MetaCTRL\", [(\"demandOK\", \"-\"),(\"demandOK_mdot\", \"-\")], [(\"COG_FlagOUT\", \"-\"),(\"HOB_FlagOUT\", \"-\"),(\"TES_FlagOUT\", \"-\")]) # Set, Get\n",
    "sim.create_environment(\"EnvCTRL\", \"wrapper_ctrl.py\", \"Dockerfile_ctrl\")\n",
    "\n",
    "sim.create_meta_model(\"MetaLCTRL\", [(\"TindoorIN_0\", \"Cdeg\"),(\"TindoorIN_1\", \"Cdeg\"),(\"mdotTOT\", \"kgs\"),(\"TES_socIN\", \"-\"),(\"ToutdoorP\", \"Cdeg\")], [(\"Tth_0\", \"Cdeg\"),(\"Tth_1\", \"Cdeg\"),(\"demandFlag\", \"-\"),(\"demandFlag_mdot\", \"-\"),(\"TsetP\", \"Cdeg\")]) # Set, Get\n",
    "sim.create_environment(\"EnvLCTRL\", \"wrapper_lctrl.py\", \"Dockerfile_lctrl\")\n",
    "\n",
    "sim.create_meta_model(\"MetaWEATHER\", [], [(\"TdryBulb\", \"Cdeg\")]) # Set, Get\n",
    "sim.create_environment(\"EnvWEATHER\", \"wrapper_weather.py\", \"Dockerfile_weather\")\n",
    "\n",
    "sim.create_meta_model(\"MetaHNET\", [(\"HNET_QDH_1\", \"W\"),(\"HNET_QDH_2\", \"W\")], [(\"HNET_QDH\", \"kW\")]) # Set, Get\n",
    "sim.create_environment(\"EnvHNET\", \"wrapper_shnet.py\", \"Dockerfile_shnet\")\n",
    "\n",
    "sim.create_meta_model(\"MetaISEL\", [(\"soo1\", \"-\"),(\"mdot1\", \"kgs\"),(\"Tin1\", \"Cdeg\"),(\"soo2\", \"-\"),(\"mdot2\", \"kgs\"),(\"Tin2\", \"Cdeg\")], [(\"mdot\", \"kgs\"),(\"Tout\", \"Cdeg\")]) # Set, Get\n",
    "sim.create_environment(\"EnvISEL\", \"wrapper_isel.py\", \"Dockerfile_isel\")\n",
    "\n",
    "# There is one model per each environment in this example. \n",
    "# OBS!! The name Base# indicates a model. Each model is contained in a node. There can be more nodes in each environment.\n",
    "sim.add_node(\"Base0\", \"MetaLCTRL\", \"EnvLCTRL\", init_values={},files=['TS_set.txt'],local=False)\n",
    "sim.add_node(\"Base1\", \"MetaCTRL\", \"EnvCTRL\", init_values={},local=False)\n",
    "sim.add_node(\"Base2\", \"MetaPLANT\", \"EnvPLANT\", init_values={\"COG_QDH\":2000,\"COG_FlagIN\":1}, files=[\"COGplant.fmu\"],local=True)\n",
    "sim.add_node(\"Base3\", \"MetaDEM1\", \"EnvDEM1\", init_values={}, files=[\"Residential_DH_1.fmu\"],local=True)\n",
    "sim.add_node(\"Base3_1\", \"MetaDEM2\", \"EnvDEM2\", init_values={}, files=[\"Residential_DH_2.fmu\"],local=True)\n",
    "sim.add_node(\"Base4\", \"MetaHOB\", \"EnvHOB\", init_values={},local=False)\n",
    "sim.add_node(\"Base5\", \"MetaTES\", \"EnvTES\", init_values={},local=False)\n",
    "sim.add_node(\"Base6\", \"MetaWEATHER\", \"EnvWEATHER\", init_values={},files=['SWE_Stockholm.Arlanda.024600_IWEC.epw'],local=False)\n",
    "sim.add_node(\"Base7\", \"MetaHNET\", \"EnvHNET\", init_values={},local=False)\n",
    "sim.add_node(\"Base8\", \"MetaISEL\", \"EnvISEL\", init_values={},local=False)\n",
    "\n",
    "# Links among nodes\n",
    "sim.add_link(\"Base0\", \"Tth_0\", \"Base3\", \"Tthermostat\") # ok - Control on demand (Thermostat set point)\n",
    "sim.add_link(\"Base0\", \"Tth_1\", \"Base3_1\", \"Tthermostat\") # ok - Control on demand (Thermostat set point)\n",
    "sim.add_link(\"Base0\", \"demandFlag\", \"Base1\", \"demandOK\") # ok - Precontrol on the supply units based on weather (Tset) and demand (mdot) and availability of capacity in the buildings (Tindoor)\n",
    "sim.add_link(\"Base0\", \"demandFlag_mdot\", \"Base1\", \"demandOK_mdot\") # ok - Precontrol on the supply units based on weather (Tset) and demand (mdot) and availability of capacity in the buildings (Tindoor) \n",
    "sim.add_link(\"Base0\", \"TsetP\", \"Base4\", \"HOB_Tset\") # ok - Information passed onto the HOB to full fill the load's request\n",
    "\n",
    "sim.add_link(\"Base1\", \"COG_FlagOUT\", \"Base2\", \"COG_FlagIN\") # ok - Control on COG \n",
    "sim.add_link(\"Base1\", \"HOB_FlagOUT\", \"Base4\", \"HOB_FlagIN\") # ok - Control on HOB\n",
    "sim.add_link(\"Base1\", \"TES_FlagOUT\", \"Base5\", \"TES_FlagIN\") # ok - Control on TES\n",
    "\n",
    "sim.add_link(\"Base2\", \"COG_MDOTtot\", \"Base0\", \"mdotTOT\") # ok Total\n",
    "sim.add_link(\"Base2\", \"COG_MDOTtoTES\", \"Base5\", \"TES_MDOTinC\") # ok Total - Direct interaction COG-TES\n",
    "sim.add_link(\"Base2\", \"COG_MDOTfromTES\", \"Base5\", \"TES_MDOTinD\") # ok Total - Direct interaction COG-TES\n",
    "sim.add_link(\"Base2\", \"COG_TTESin\", \"Base5\", \"TES_Tin\") # ok - Direct interaction COG-TES\n",
    "sim.add_link(\"Base2\", \"COG_Tout\", \"Base8\", \"Tin1\") # ok Total - Direct interaction COG-TES\n",
    "sim.add_link(\"Base2\", \"COG_MDOTtoLOAD\", \"Base8\", \"mdot1\") # ok - Direct interaction COG-TES\n",
    "sim.add_link(\"Base2\", \"COG_soo\", \"Base8\", \"soo1\") # ok - Direct interaction COG-TES\n",
    "\n",
    "sim.add_link(\"Base3\", \"QDH\", \"Base7\", \"HNET_QDH_1\") # ok - Feedback to the supply system\n",
    "sim.add_link(\"Base3\", \"Tindoor\", \"Base0\", \"TindoorIN_0\") # ok - Feedback to the local control to define the supply units (1)\n",
    "sim.add_link(\"Base3_1\", \"Tindoor\", \"Base0\", \"TindoorIN_1\") # ok - Feedback to the local control to define the supply units (1)\n",
    "sim.add_link(\"Base3_1\", \"QDH\", \"Base7\", \"HNET_QDH_2\") # ok - Feedback to the supply system\n",
    "\n",
    "sim.add_link(\"Base5\", \"TES_ToutD\", \"Base8\", \"Tin2\") # ok - Direct interaction TES - HOB (dis)\n",
    "sim.add_link(\"Base5\", \"TES_MDOToutD\", \"Base8\", \"mdot2\") # ok Total - Direct interaction TES - HOB (dis)\n",
    "sim.add_link(\"Base5\", \"TES_soo\", \"Base8\", \"soo2\") # ok Total - Direct interaction TES - HOB (dis)\n",
    "sim.add_link(\"Base5\", \"TES_socOUT\", \"Base0\", \"TES_socIN\") # ok\n",
    "\n",
    "sim.add_link(\"Base6\", \"TdryBulb\", \"Base0\", \"ToutdoorP\") # ok\n",
    "\n",
    "sim.add_link(\"Base7\", \"HNET_QDH\", \"Base2\", \"COG_QDH\") # ok\n",
    "\n",
    "sim.add_link(\"Base8\", \"mdot\", \"Base4\", \"HOB_mdotIN\") # ok Total - Direct interaction COG-HOB\n",
    "sim.add_link(\"Base8\", \"Tout\", \"Base4\", \"HOB_Tin\") # ok - Direct interaction COG-HOB\n",
    "\n",
    "# Create groups from the simulation sequence. Nodes in the same group run in parallel. \n",
    "# A group is defined within the first level of square brackets.\n",
    "sim.create_sequence([[\"Base3\",\"Base3_1\"],[\"Base7\"],[\"Base2\"],[\"Base5\"],[\"Base8\"],[\"Base4\"],[\"Base6\"],[\"Base0\"],[\"Base1\"]])\n",
    "sim.set_time_unit(\"seconds\")\n",
    "sim.create_steps([3600] * 24)"
   ]
  },
  {
   "cell_type": "markdown",
   "metadata": {},
   "source": [
    "Once the next step has been launched, logging `INFO :: Waiting for local nodes to run..`, you need to run tho following command `wrapper_eplus.py Base1 GRP1` in the indicated folder (in a dedicated environment) in order to run the local node."
   ]
  },
  {
   "cell_type": "code",
   "execution_count": null,
   "metadata": {
    "scrolled": true
   },
   "outputs": [],
   "source": [
    "sim.run()"
   ]
  },
  {
   "cell_type": "markdown",
   "metadata": {},
   "source": [
    "If you see `INFO :: Simulation finished in X min and Y sec` it means everything went well.\n",
    "You can find logs of the nodes in the file `nodes.log`, it's a text file you can open it directly in Jupyter or in your favorite text editor.\n",
    "\n",
    "At the begining of the file you will find a serie of:\n",
    "\n",
    "`Step X/10 : DO SOMETHING\n",
    " ---> 29d2f3226daf`\n",
    " \n",
    "It's the logs of the creation of the Docker image, based on the provided Dockerfile (here `Dockerfile_base`).\n",
    "\n",
    "Then all the logs are structures in the same way:\n",
    "\n",
    "`<node>    | <level> :: <message>`\n",
    "\n",
    "* `node` refers to the concerned simulation node or orchestrator\n",
    "* `level` can be `DEBUG`: used for development purpose, `INFO`: giving you info on the running process, `WARNING`: warning you on action to make or some weird behaviour, `ERROR`: something went wrong and `CRITICAL`: something went really wrong.\n",
    "* `message` is the body of the log, it describes what's happening."
   ]
  },
  {
   "cell_type": "markdown",
   "metadata": {},
   "source": [
    "You can also find information on the ongoing simulation in the file `activity.log` (in the root folder for the main processus and on the temporary folder for each node)"
   ]
  },
  {
   "cell_type": "code",
   "execution_count": null,
   "metadata": {
    "scrolled": true
   },
   "outputs": [],
   "source": [
    "sim.connect_to_results_db()\n",
    "sim.get_list_of_available_results()"
   ]
  },
  {
   "cell_type": "markdown",
   "metadata": {},
   "source": [
    "The name to the stored results are build as `<type>||<node>||<attribute>`.\n",
    "\n",
    "`type` can be:\n",
    "* `IN` if it's an input attribute (to set - stored automatically)\n",
    "* `OUT` if it's an output attribute (to get - stored automatically)\n",
    "* `X` if it's an internal value (stored by the user, using the `save_attribute()` method in the wrapper)\n",
    "\n",
    "Knowing this, you can create matching pattern using `*` in order to properly select results."
   ]
  },
  {
   "cell_type": "code",
   "execution_count": null,
   "metadata": {},
   "outputs": [],
   "source": [
    "file1 = open('Results_Tset_Th_demFlag.csv','w')\n",
    "for key, value in sim.get_results_by_pattern(\"OUT*Base0*\").items():\n",
    "    print(key)\n",
    "    print(value) \n",
    "    file1.write(str(value))\n",
    "file1.close()"
   ]
  },
  {
   "cell_type": "code",
   "execution_count": null,
   "metadata": {},
   "outputs": [],
   "source": [
    "file2 = open('Results_Flags.csv','w')\n",
    "for key, value in sim.get_results_by_pattern(\"OUT*Base1*\").items():\n",
    "    print(key)\n",
    "    print(value) \n",
    "    file2.write(str(value))\n",
    "file2.close()"
   ]
  },
  {
   "cell_type": "code",
   "execution_count": null,
   "metadata": {},
   "outputs": [],
   "source": [
    "file3 = open('Results_COGout.csv','w')\n",
    "for key, value in sim.get_results_by_pattern(\"OUT*Base2*\").items():\n",
    "    print(key)\n",
    "    print(value) \n",
    "    file3.write(str(value))\n",
    "file3.close()"
   ]
  },
  {
   "cell_type": "code",
   "execution_count": null,
   "metadata": {},
   "outputs": [],
   "source": [
    "file4 = open('Results_Tindoor_QR.csv','w')\n",
    "for key, value in sim.get_results_by_pattern(\"OUT*Base3*\").items():\n",
    "    print(key)\n",
    "    print(value) \n",
    "    file4.write(str(value))\n",
    "file4.close()"
   ]
  },
  {
   "cell_type": "code",
   "execution_count": null,
   "metadata": {},
   "outputs": [],
   "source": [
    "file5 = open('Results_TESout.csv','w')\n",
    "for key, value in sim.get_results_by_pattern(\"OUT*Base5*\").items():\n",
    "    print(key)\n",
    "    print(value) \n",
    "    file5.write(str(value))\n",
    "file5.close()"
   ]
  },
  {
   "cell_type": "code",
   "execution_count": null,
   "metadata": {},
   "outputs": [],
   "source": [
    "file6 = open('Results_Toutdoor.csv','w')\n",
    "for key, value in sim.get_results_by_pattern(\"OUT*Base6*\").items():\n",
    "    print(key)\n",
    "    print(value) \n",
    "    file6.write(str(value))\n",
    "file6.close()"
   ]
  },
  {
   "cell_type": "code",
   "execution_count": null,
   "metadata": {},
   "outputs": [],
   "source": []
  },
  {
   "cell_type": "code",
   "execution_count": null,
   "metadata": {},
   "outputs": [],
   "source": []
  }
 ],
 "metadata": {
  "kernelspec": {
   "display_name": "Python 3",
   "language": "python",
   "name": "python3"
  },
  "language_info": {
   "codemirror_mode": {
    "name": "ipython",
    "version": 3
   },
   "file_extension": ".py",
   "mimetype": "text/x-python",
   "name": "python",
   "nbconvert_exporter": "python",
   "pygments_lexer": "ipython3",
   "version": "3.6.5"
  }
 },
 "nbformat": 4,
 "nbformat_minor": 2
}
