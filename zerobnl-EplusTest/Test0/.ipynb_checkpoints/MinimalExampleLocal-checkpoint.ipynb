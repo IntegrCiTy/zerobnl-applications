{
 "cells": [
  {
   "cell_type": "markdown",
   "metadata": {},
   "source": [
    "# EnergyPlus Example"
   ]
  },
  {
   "cell_type": "code",
   "execution_count": 1,
   "metadata": {},
   "outputs": [],
   "source": [
    "import os\n",
    "from zerobnl import CoSim"
   ]
  },
  {
   "cell_type": "markdown",
   "metadata": {},
   "source": [
    "You can safely ignore the following error (it will also be in the nodes logs):\n",
    "\n",
    "RuntimeWarning: numpy.dtype size changed, may indicate binary incompatibility. Expected 96, got 88\n",
    "\n",
    "-> [Numpy documentation](https://github.com/numpy/numpy/pull/432)"
   ]
  },
  {
   "cell_type": "code",
   "execution_count": 2,
   "metadata": {
    "scrolled": true
   },
   "outputs": [
    {
     "name": "stderr",
     "output_type": "stream",
     "text": [
      "INFO :: Meta-model BaseMeta created.\n",
      "INFO :: Meta-model EplusMeta created.\n",
      "INFO :: Model BaseModel created.\n",
      "INFO :: Model EplusModel created.\n",
      "INFO :: Node Base0 created.\n",
      "INFO :: Node Base1 created.\n",
      "INFO :: Link created Base0 -> Base1.\n",
      "INFO :: Link created Base1 -> Base0.\n",
      "INFO :: The group ('Base0',) have been created.\n",
      "INFO :: The group ('Base1',) have been created.\n",
      "INFO :: The sequence [['GRP0', ('Base0',)], ['GRP1', ('Base1',)]] have been created.\n",
      "INFO :: 24 steps have been created.\n"
     ]
    }
   ],
   "source": [
    "sim = CoSim()\n",
    "\n",
    "# There are 2 environments in this example: a python-based one and an EnergyPlus-based one.\n",
    "sim.create_meta_model(\"MetaBase\", [(\"a\", \"Cdeg\")], [(\"b\", \"Cdeg\")])\n",
    "sim.create_environment(\"EnvBase\", \"wrapper_base.py\", \"Dockerfile_base\")\n",
    "\n",
    "sim.create_meta_model(\"MetaEplus\", [(\"Ts_second\", \"Cdeg\")], [(\"Tr_second\", \"Cdeg\")])\n",
    "sim.create_environment(\"EnvEplus\", \"wrapper_eplus.py\", \"Dockerfile_na\")\n",
    "\n",
    "# There is one model per each environment in this example. \n",
    "# OBS!! The name Base# indicates a model. Each model is contained in a node. There can be more nodes in each environment.\n",
    "sim.add_node(\"Base0\", \"MetaBase\", \"EnvBase\", init_values={})\n",
    "sim.add_node(\"Base1\", \"MetaEplus\", \"EnvEplus\", init_values={\"Tr_second\": 45})\n",
    "\n",
    "# Links among nodes\n",
    "sim.add_link(\"Base0\", \"b\", \"Base1\", \"Ts_second\") # get from Base0 and set to Base1\n",
    "sim.add_link(\"Base1\", \"Tr_second\", \"Base0\", \"a\") # get from Base1 and set to Base0\n",
    "\n",
    "# Create groups from the simulation sequence. Nodes in the same group run in parallel. \n",
    "# A group is defined within the first level of square brackets.\n",
    "sim.create_sequence([[\"Base0\"], [\"Base1\"]])\n",
    "sim.set_time_unit(\"seconds\")\n",
    "sim.create_steps([3600] * 24)"
   ]
  },
  {
   "cell_type": "markdown",
   "metadata": {},
   "source": [
    "Once the next step has been launched, logging `INFO :: Waiting for local nodes to run..`, you need to run tho following command `wrapper_eplus.py Base1 GRP1` in the indicated folder (in a dedicated environment) in order to run the local node."
   ]
  },
  {
   "cell_type": "code",
   "execution_count": 3,
   "metadata": {
    "scrolled": true
   },
   "outputs": [
    {
     "name": "stderr",
     "output_type": "stream",
     "text": [
      "INFO :: Starting the simulation's deployment...\n",
      "WARNING :: Local node to run in [TMP_FOLDER\\base1] > python wrapper_eplus.py Base1 GRP1\n",
      "INFO :: Starting simulation...\n",
      "INFO :: Waiting for local nodes to run...\n",
      "INFO :: Simulation finished in 0 min and 18 sec\n"
     ]
    }
   ],
   "source": [
    "sim.run()"
   ]
  },
  {
   "cell_type": "markdown",
   "metadata": {},
   "source": [
    "If you see `INFO :: Simulation finished in X min and Y sec` it means everything went well.\n",
    "You can find logs of the nodes in the file `nodes.log`, it's a text file you can open it directly in Jupyter or in your favorite text editor.\n",
    "\n",
    "At the begining of the file you will find a serie of:\n",
    "\n",
    "`Step X/10 : DO SOMETHING\n",
    " ---> 29d2f3226daf`\n",
    " \n",
    "It's the logs of the creation of the Docker image, based on the provided Dockerfile (here `Dockerfile_base`).\n",
    "\n",
    "Then all the logs are structures in the same way:\n",
    "\n",
    "`<node>    | <level> :: <message>`\n",
    "\n",
    "* `node` refers to the concerned simulation node or orchestrator\n",
    "* `level` can be `DEBUG`: used for development purpose, `INFO`: giving you info on the running process, `WARNING`: warning you on action to make or some weird behaviour, `ERROR`: something went wrong and `CRITICAL`: something went really wrong.\n",
    "* `message` is the body of the log, it describes what's happening."
   ]
  },
  {
   "cell_type": "markdown",
   "metadata": {},
   "source": [
    "You can also find information on the ongoing simulation in the file `activity.log` (in the root folder for the main processus and on the temporary folder for each node)"
   ]
  },
  {
   "cell_type": "code",
   "execution_count": 4,
   "metadata": {},
   "outputs": [
    {
     "name": "stderr",
     "output_type": "stream",
     "text": [
      "INFO :: Connected to Redis DB\n"
     ]
    },
    {
     "data": {
      "text/html": [
       "<div>\n",
       "<style scoped>\n",
       "    .dataframe tbody tr th:only-of-type {\n",
       "        vertical-align: middle;\n",
       "    }\n",
       "\n",
       "    .dataframe tbody tr th {\n",
       "        vertical-align: top;\n",
       "    }\n",
       "\n",
       "    .dataframe thead th {\n",
       "        text-align: right;\n",
       "    }\n",
       "</style>\n",
       "<table border=\"1\" class=\"dataframe\">\n",
       "  <thead>\n",
       "    <tr style=\"text-align: right;\">\n",
       "      <th></th>\n",
       "      <th>IN/OUT</th>\n",
       "      <th>Node</th>\n",
       "      <th>Attribute</th>\n",
       "    </tr>\n",
       "  </thead>\n",
       "  <tbody>\n",
       "    <tr>\n",
       "      <th>0</th>\n",
       "      <td>OUT</td>\n",
       "      <td>Base0</td>\n",
       "      <td>b</td>\n",
       "    </tr>\n",
       "    <tr>\n",
       "      <th>1</th>\n",
       "      <td>IN</td>\n",
       "      <td>Base1</td>\n",
       "      <td>Ts_second</td>\n",
       "    </tr>\n",
       "    <tr>\n",
       "      <th>2</th>\n",
       "      <td>OUT</td>\n",
       "      <td>Base1</td>\n",
       "      <td>Tr_second</td>\n",
       "    </tr>\n",
       "    <tr>\n",
       "      <th>3</th>\n",
       "      <td>IN</td>\n",
       "      <td>Base0</td>\n",
       "      <td>a</td>\n",
       "    </tr>\n",
       "  </tbody>\n",
       "</table>\n",
       "</div>"
      ],
      "text/plain": [
       "  IN/OUT   Node  Attribute\n",
       "0    OUT  Base0          b\n",
       "1     IN  Base1  Ts_second\n",
       "2    OUT  Base1  Tr_second\n",
       "3     IN  Base0          a"
      ]
     },
     "execution_count": 4,
     "metadata": {},
     "output_type": "execute_result"
    }
   ],
   "source": [
    "sim.connect_to_results_db()\n",
    "sim.get_list_of_available_results()"
   ]
  },
  {
   "cell_type": "markdown",
   "metadata": {},
   "source": [
    "The name to the stored results are build as `<type>||<node>||<attribute>`.\n",
    "\n",
    "`type` can be:\n",
    "* `IN` if it's an input attribute (to set - stored automatically)\n",
    "* `OUT` if it's an output attribute (to get - stored automatically)\n",
    "* `X` if it's an internal value (stored by the user, using the `save_attribute()` method in the wrapper)\n",
    "\n",
    "Knowing this, you can create matching pattern using `*` in order to properly select results."
   ]
  },
  {
   "cell_type": "code",
   "execution_count": 5,
   "metadata": {},
   "outputs": [
    {
     "name": "stderr",
     "output_type": "stream",
     "text": [
      "INFO :: Matching results: Base0 - a\n"
     ]
    },
    {
     "name": "stdout",
     "output_type": "stream",
     "text": [
      "2000-01-01 01:00:00    0.0\n",
      "2000-01-01 02:00:00    0.0\n",
      "2000-01-01 03:00:00    0.0\n",
      "2000-01-01 04:00:00    0.0\n",
      "2000-01-01 05:00:00    0.0\n",
      "2000-01-01 06:00:00    0.0\n",
      "2000-01-01 07:00:00    0.0\n",
      "2000-01-01 08:00:00    0.0\n",
      "2000-01-01 09:00:00    0.0\n",
      "2000-01-01 10:00:00    0.0\n",
      "2000-01-01 11:00:00    0.0\n",
      "2000-01-01 12:00:00    0.0\n",
      "2000-01-01 13:00:00    0.0\n",
      "2000-01-01 14:00:00    0.0\n",
      "2000-01-01 15:00:00    0.0\n",
      "2000-01-01 16:00:00    0.0\n",
      "2000-01-01 17:00:00    0.0\n",
      "2000-01-01 18:00:00    0.0\n",
      "2000-01-01 19:00:00    0.0\n",
      "2000-01-01 20:00:00    0.0\n",
      "2000-01-01 21:00:00    0.0\n",
      "2000-01-01 22:00:00    0.0\n",
      "2000-01-01 23:00:00    0.0\n",
      "dtype: float64\n"
     ]
    }
   ],
   "source": [
    "for key, value in sim.get_results_by_pattern(\"OUT*Base0*\").items():\n",
    "    print(key)\n",
    "    print(value)   "
   ]
  },
  {
   "cell_type": "code",
   "execution_count": 6,
   "metadata": {},
   "outputs": [
    {
     "name": "stderr",
     "output_type": "stream",
     "text": [
      "INFO :: Matching results: Base1 - Ts_second\n"
     ]
    },
    {
     "name": "stdout",
     "output_type": "stream",
     "text": [
      "2000-01-01 01:00:00    0.0\n",
      "2000-01-01 02:00:00    0.0\n",
      "2000-01-01 03:00:00    0.0\n",
      "2000-01-01 04:00:00    0.0\n",
      "2000-01-01 05:00:00    0.0\n",
      "2000-01-01 06:00:00    0.0\n",
      "2000-01-01 07:00:00    0.0\n",
      "2000-01-01 08:00:00    0.0\n",
      "2000-01-01 09:00:00    0.0\n",
      "2000-01-01 10:00:00    0.0\n",
      "2000-01-01 11:00:00    0.0\n",
      "2000-01-01 12:00:00    0.0\n",
      "2000-01-01 13:00:00    0.0\n",
      "2000-01-01 14:00:00    0.0\n",
      "2000-01-01 15:00:00    0.0\n",
      "2000-01-01 16:00:00    0.0\n",
      "2000-01-01 17:00:00    0.0\n",
      "2000-01-01 18:00:00    0.0\n",
      "2000-01-01 19:00:00    0.0\n",
      "2000-01-01 20:00:00    0.0\n",
      "2000-01-01 21:00:00    0.0\n",
      "2000-01-01 22:00:00    0.0\n",
      "2000-01-01 23:00:00    0.0\n",
      "dtype: float64\n"
     ]
    }
   ],
   "source": [
    "for key, value in sim.get_results_by_pattern(\"IN*Base0*\").items():\n",
    "    print(key)\n",
    "    print(value)"
   ]
  }
 ],
 "metadata": {
  "kernelspec": {
   "display_name": "Python 3",
   "language": "python",
   "name": "python3"
  },
  "language_info": {
   "codemirror_mode": {
    "name": "ipython",
    "version": 3
   },
   "file_extension": ".py",
   "mimetype": "text/x-python",
   "name": "python",
   "nbconvert_exporter": "python",
   "pygments_lexer": "ipython3",
   "version": "3.6.5"
  }
 },
 "nbformat": 4,
 "nbformat_minor": 2
}
