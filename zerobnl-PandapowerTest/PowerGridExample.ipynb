{
 "cells": [
  {
   "cell_type": "markdown",
   "metadata": {},
   "source": [
    "# Simple Power grid example with random consumers\n",
    "## Creating a co-simulation graph\n",
    "We consider the following power grid taken from [a CIGRE network](http://www.cigre.org/News/Network-of-the-Future) described by the following picture:\n",
    "\n",
    "<img src=\"./figures/cigre_network_lv.png\" alt=\"Model\" style=\"width: 500px;\"/>\n",
    "\n",
    "A model of this network have be created using pandapower and data exported as descibed in [PowerGridModel.ipynb](./PowerGridModel.ipynb)\n",
    "\n",
    "The modeled system is the power grid with consumers that set random active and reactive power for each time step."
   ]
  },
  {
   "cell_type": "code",
   "execution_count": 1,
   "metadata": {},
   "outputs": [],
   "source": [
    "import os\n",
    "from ictdeploy import Simulator as Sim"
   ]
  },
  {
   "cell_type": "code",
   "execution_count": 2,
   "metadata": {},
   "outputs": [],
   "source": [
    "import json\n",
    "import pandas as pd"
   ]
  },
  {
   "cell_type": "code",
   "execution_count": 3,
   "metadata": {},
   "outputs": [],
   "source": [
    "#create empty simulator\n",
    "sim = Sim()"
   ]
  },
  {
   "cell_type": "markdown",
   "metadata": {},
   "source": [
    "### Load data for power grid `Meta-model` creation\n",
    "The input values for the power grid `Node` will be the active and reactive power for each consumers.\n",
    "\n",
    "It will be set at the level of the power grid `Meta-model` defining the `set_attrs` from the loaded data."
   ]
  },
  {
   "cell_type": "code",
   "execution_count": 4,
   "metadata": {},
   "outputs": [
    {
     "data": {
      "text/html": [
       "<div>\n",
       "<style scoped>\n",
       "    .dataframe tbody tr th:only-of-type {\n",
       "        vertical-align: middle;\n",
       "    }\n",
       "\n",
       "    .dataframe tbody tr th {\n",
       "        vertical-align: top;\n",
       "    }\n",
       "\n",
       "    .dataframe thead th {\n",
       "        text-align: right;\n",
       "    }\n",
       "</style>\n",
       "<table border=\"1\" class=\"dataframe\">\n",
       "  <thead>\n",
       "    <tr style=\"text-align: right;\">\n",
       "      <th></th>\n",
       "      <th>bus</th>\n",
       "      <th>const_i_percent</th>\n",
       "      <th>const_z_percent</th>\n",
       "      <th>in_service</th>\n",
       "      <th>name</th>\n",
       "      <th>p_kw</th>\n",
       "      <th>q_kvar</th>\n",
       "      <th>scaling</th>\n",
       "      <th>sn_kva</th>\n",
       "      <th>type</th>\n",
       "    </tr>\n",
       "  </thead>\n",
       "  <tbody>\n",
       "    <tr>\n",
       "      <th>0</th>\n",
       "      <td>2</td>\n",
       "      <td>0.0</td>\n",
       "      <td>0.0</td>\n",
       "      <td>True</td>\n",
       "      <td>LoadR1</td>\n",
       "      <td>10.0</td>\n",
       "      <td>1.0</td>\n",
       "      <td>1.0</td>\n",
       "      <td>None</td>\n",
       "      <td>None</td>\n",
       "    </tr>\n",
       "    <tr>\n",
       "      <th>1</th>\n",
       "      <td>12</td>\n",
       "      <td>0.0</td>\n",
       "      <td>0.0</td>\n",
       "      <td>True</td>\n",
       "      <td>LoadR11</td>\n",
       "      <td>10.0</td>\n",
       "      <td>1.0</td>\n",
       "      <td>1.0</td>\n",
       "      <td>None</td>\n",
       "      <td>None</td>\n",
       "    </tr>\n",
       "    <tr>\n",
       "      <th>10</th>\n",
       "      <td>37</td>\n",
       "      <td>0.0</td>\n",
       "      <td>0.0</td>\n",
       "      <td>True</td>\n",
       "      <td>LoadC14</td>\n",
       "      <td>10.0</td>\n",
       "      <td>1.0</td>\n",
       "      <td>1.0</td>\n",
       "      <td>None</td>\n",
       "      <td>None</td>\n",
       "    </tr>\n",
       "    <tr>\n",
       "      <th>11</th>\n",
       "      <td>40</td>\n",
       "      <td>0.0</td>\n",
       "      <td>0.0</td>\n",
       "      <td>True</td>\n",
       "      <td>LoadC17</td>\n",
       "      <td>10.0</td>\n",
       "      <td>1.0</td>\n",
       "      <td>1.0</td>\n",
       "      <td>None</td>\n",
       "      <td>None</td>\n",
       "    </tr>\n",
       "    <tr>\n",
       "      <th>12</th>\n",
       "      <td>41</td>\n",
       "      <td>0.0</td>\n",
       "      <td>0.0</td>\n",
       "      <td>True</td>\n",
       "      <td>LoadC18</td>\n",
       "      <td>10.0</td>\n",
       "      <td>1.0</td>\n",
       "      <td>1.0</td>\n",
       "      <td>None</td>\n",
       "      <td>None</td>\n",
       "    </tr>\n",
       "  </tbody>\n",
       "</table>\n",
       "</div>"
      ],
      "text/plain": [
       "    bus  const_i_percent  const_z_percent  in_service     name  p_kw  q_kvar  \\\n",
       "0     2              0.0              0.0        True   LoadR1  10.0     1.0   \n",
       "1    12              0.0              0.0        True  LoadR11  10.0     1.0   \n",
       "10   37              0.0              0.0        True  LoadC14  10.0     1.0   \n",
       "11   40              0.0              0.0        True  LoadC17  10.0     1.0   \n",
       "12   41              0.0              0.0        True  LoadC18  10.0     1.0   \n",
       "\n",
       "    scaling sn_kva  type  \n",
       "0       1.0   None  None  \n",
       "1       1.0   None  None  \n",
       "10      1.0   None  None  \n",
       "11      1.0   None  None  \n",
       "12      1.0   None  None  "
      ]
     },
     "execution_count": 4,
     "metadata": {},
     "output_type": "execute_result"
    }
   ],
   "source": [
    "data_power_grid_folder = \"PowerGridData\"\n",
    "\n",
    "loads = pd.DataFrame(json.load(open(os.path.join(data_power_grid_folder, 'load.json'))))\n",
    "loads.index = map(int, loads.index)\n",
    "loads.head()"
   ]
  },
  {
   "cell_type": "code",
   "execution_count": 5,
   "metadata": {},
   "outputs": [
    {
     "data": {
      "text/plain": [
       "'PowerGridMeta'"
      ]
     },
     "execution_count": 5,
     "metadata": {},
     "output_type": "execute_result"
    }
   ],
   "source": [
    "#create Meta-model\n",
    "\n",
    "set_attrs = [n+\"_p_kw\" for n in loads.name]\n",
    "set_attrs += [n+\"_q_kvar\" for n in loads.name]\n",
    "\n",
    "sim.edit.add_meta(\n",
    "        name=\"PowerGridMeta\",\n",
    "        set_attrs=set_attrs,\n",
    "        get_attrs=[]\n",
    "    )"
   ]
  },
  {
   "cell_type": "markdown",
   "metadata": {},
   "source": [
    "### Implement the power grid model in the `Node` from data\n",
    "The parameters, structure, and topology of the power grid have been stored in various `.json` files.\n",
    "\n",
    "Those `.json` files need to be loaded into the `Node` container at run time.\n",
    "\n",
    "Therefore files to be added to the container will be defined in the creation of the `Model`.\n",
    "\n",
    "The wrapper for the power grid `Node` can be found [here](./wrappers/power_grid_wrap.py)."
   ]
  },
  {
   "cell_type": "code",
   "execution_count": 6,
   "metadata": {},
   "outputs": [
    {
     "data": {
      "text/plain": [
       "'PowerGridModel'"
      ]
     },
     "execution_count": 6,
     "metadata": {},
     "output_type": "execute_result"
    }
   ],
   "source": [
    "#create Model\n",
    "sim.edit.add_model(\n",
    "        name=\"PowerGridModel\",\n",
    "        meta=\"PowerGridMeta\",\n",
    "        image=\"integrcity/ict-pandapower\",\n",
    "        wrapper=os.path.join(\"wrappers\", \"power_grid_wrap.py\"),\n",
    "        command=None,\n",
    "        files=[os.path.join(data_power_grid_folder, f) for f in os.listdir(data_power_grid_folder)]\n",
    "    )"
   ]
  },
  {
   "cell_type": "code",
   "execution_count": 7,
   "metadata": {},
   "outputs": [
    {
     "data": {
      "text/plain": [
       "'PowerGrid'"
      ]
     },
     "execution_count": 7,
     "metadata": {},
     "output_type": "execute_result"
    }
   ],
   "source": [
    "#add node\n",
    "sim.edit.add_node(\n",
    "        name=\"PowerGrid\",\n",
    "        model=\"PowerGridModel\",\n",
    "        init_values={}\n",
    "    )"
   ]
  },
  {
   "cell_type": "markdown",
   "metadata": {},
   "source": [
    "### Define consumers `Meta-model`, `Model` and `Nodes`\n",
    "The wrapper for the consumers `Nodes` can be found [here](./wrappers/consumer_wrap.py)."
   ]
  },
  {
   "cell_type": "code",
   "execution_count": 8,
   "metadata": {},
   "outputs": [
    {
     "data": {
      "text/plain": [
       "'ConsumerMeta'"
      ]
     },
     "execution_count": 8,
     "metadata": {},
     "output_type": "execute_result"
    }
   ],
   "source": [
    "#create Meta-model\n",
    "\n",
    "sim.edit.add_meta(\n",
    "        name=\"ConsumerMeta\",\n",
    "        set_attrs=[],\n",
    "        get_attrs=[\"p_kw\", \"q_kvar\"]\n",
    "    )"
   ]
  },
  {
   "cell_type": "code",
   "execution_count": 9,
   "metadata": {},
   "outputs": [
    {
     "data": {
      "text/plain": [
       "'ConsumerModel'"
      ]
     },
     "execution_count": 9,
     "metadata": {},
     "output_type": "execute_result"
    }
   ],
   "source": [
    "#create Model\n",
    "sim.edit.add_model(\n",
    "        name=\"ConsumerModel\",\n",
    "        meta=\"ConsumerMeta\",\n",
    "        image=\"integrcity/ict-simple\",\n",
    "        wrapper=os.path.join(\"wrappers\", \"consumer_wrap.py\"),\n",
    "        command=None,\n",
    "        files=[]\n",
    "    )"
   ]
  },
  {
   "cell_type": "code",
   "execution_count": 10,
   "metadata": {},
   "outputs": [],
   "source": [
    "#add node\n",
    "for n in loads.name:\n",
    "    sim.edit.add_node(\n",
    "        name=n,\n",
    "        model=\"ConsumerModel\",\n",
    "        init_values={\"loc\": 5.0, \"scale\": 0.5},\n",
    "        is_first=True\n",
    "    )"
   ]
  },
  {
   "cell_type": "code",
   "execution_count": 11,
   "metadata": {},
   "outputs": [
    {
     "data": {
      "text/html": [
       "<div>\n",
       "<style scoped>\n",
       "    .dataframe tbody tr th:only-of-type {\n",
       "        vertical-align: middle;\n",
       "    }\n",
       "\n",
       "    .dataframe tbody tr th {\n",
       "        vertical-align: top;\n",
       "    }\n",
       "\n",
       "    .dataframe thead th {\n",
       "        text-align: right;\n",
       "    }\n",
       "</style>\n",
       "<table border=\"1\" class=\"dataframe\">\n",
       "  <thead>\n",
       "    <tr style=\"text-align: right;\">\n",
       "      <th></th>\n",
       "      <th>meta</th>\n",
       "      <th>model</th>\n",
       "      <th>to_set</th>\n",
       "      <th>to_get</th>\n",
       "      <th>image</th>\n",
       "      <th>wrapper</th>\n",
       "      <th>files</th>\n",
       "      <th>command</th>\n",
       "      <th>init_values</th>\n",
       "      <th>is_first</th>\n",
       "      <th>is_local</th>\n",
       "    </tr>\n",
       "  </thead>\n",
       "  <tbody>\n",
       "    <tr>\n",
       "      <th>LoadR15</th>\n",
       "      <td>ConsumerMeta</td>\n",
       "      <td>ConsumerModel</td>\n",
       "      <td>[]</td>\n",
       "      <td>[p_kw, q_kvar]</td>\n",
       "      <td>integrcity/ict-simple</td>\n",
       "      <td>wrappers/consumer_wrap.py</td>\n",
       "      <td>[]</td>\n",
       "      <td>None</td>\n",
       "      <td>{'loc': 5.0, 'scale': 0.5}</td>\n",
       "      <td>True</td>\n",
       "      <td>False</td>\n",
       "    </tr>\n",
       "    <tr>\n",
       "      <th>LoadR16</th>\n",
       "      <td>ConsumerMeta</td>\n",
       "      <td>ConsumerModel</td>\n",
       "      <td>[]</td>\n",
       "      <td>[p_kw, q_kvar]</td>\n",
       "      <td>integrcity/ict-simple</td>\n",
       "      <td>wrappers/consumer_wrap.py</td>\n",
       "      <td>[]</td>\n",
       "      <td>None</td>\n",
       "      <td>{'loc': 5.0, 'scale': 0.5}</td>\n",
       "      <td>True</td>\n",
       "      <td>False</td>\n",
       "    </tr>\n",
       "    <tr>\n",
       "      <th>LoadR17</th>\n",
       "      <td>ConsumerMeta</td>\n",
       "      <td>ConsumerModel</td>\n",
       "      <td>[]</td>\n",
       "      <td>[p_kw, q_kvar]</td>\n",
       "      <td>integrcity/ict-simple</td>\n",
       "      <td>wrappers/consumer_wrap.py</td>\n",
       "      <td>[]</td>\n",
       "      <td>None</td>\n",
       "      <td>{'loc': 5.0, 'scale': 0.5}</td>\n",
       "      <td>True</td>\n",
       "      <td>False</td>\n",
       "    </tr>\n",
       "    <tr>\n",
       "      <th>LoadR18</th>\n",
       "      <td>ConsumerMeta</td>\n",
       "      <td>ConsumerModel</td>\n",
       "      <td>[]</td>\n",
       "      <td>[p_kw, q_kvar]</td>\n",
       "      <td>integrcity/ict-simple</td>\n",
       "      <td>wrappers/consumer_wrap.py</td>\n",
       "      <td>[]</td>\n",
       "      <td>None</td>\n",
       "      <td>{'loc': 5.0, 'scale': 0.5}</td>\n",
       "      <td>True</td>\n",
       "      <td>False</td>\n",
       "    </tr>\n",
       "    <tr>\n",
       "      <th>PowerGrid</th>\n",
       "      <td>PowerGridMeta</td>\n",
       "      <td>PowerGridModel</td>\n",
       "      <td>[LoadR1_p_kw, LoadR11_p_kw, LoadC14_p_kw, Load...</td>\n",
       "      <td>[]</td>\n",
       "      <td>integrcity/ict-pandapower</td>\n",
       "      <td>wrappers/power_grid_wrap.py</td>\n",
       "      <td>[PowerGridData/load.json, PowerGridData/ext_gr...</td>\n",
       "      <td>None</td>\n",
       "      <td>{}</td>\n",
       "      <td>False</td>\n",
       "      <td>False</td>\n",
       "    </tr>\n",
       "  </tbody>\n",
       "</table>\n",
       "</div>"
      ],
      "text/plain": [
       "                    meta           model  \\\n",
       "LoadR15     ConsumerMeta   ConsumerModel   \n",
       "LoadR16     ConsumerMeta   ConsumerModel   \n",
       "LoadR17     ConsumerMeta   ConsumerModel   \n",
       "LoadR18     ConsumerMeta   ConsumerModel   \n",
       "PowerGrid  PowerGridMeta  PowerGridModel   \n",
       "\n",
       "                                                      to_set          to_get  \\\n",
       "LoadR15                                                   []  [p_kw, q_kvar]   \n",
       "LoadR16                                                   []  [p_kw, q_kvar]   \n",
       "LoadR17                                                   []  [p_kw, q_kvar]   \n",
       "LoadR18                                                   []  [p_kw, q_kvar]   \n",
       "PowerGrid  [LoadR1_p_kw, LoadR11_p_kw, LoadC14_p_kw, Load...              []   \n",
       "\n",
       "                               image                      wrapper  \\\n",
       "LoadR15        integrcity/ict-simple    wrappers/consumer_wrap.py   \n",
       "LoadR16        integrcity/ict-simple    wrappers/consumer_wrap.py   \n",
       "LoadR17        integrcity/ict-simple    wrappers/consumer_wrap.py   \n",
       "LoadR18        integrcity/ict-simple    wrappers/consumer_wrap.py   \n",
       "PowerGrid  integrcity/ict-pandapower  wrappers/power_grid_wrap.py   \n",
       "\n",
       "                                                       files command  \\\n",
       "LoadR15                                                   []    None   \n",
       "LoadR16                                                   []    None   \n",
       "LoadR17                                                   []    None   \n",
       "LoadR18                                                   []    None   \n",
       "PowerGrid  [PowerGridData/load.json, PowerGridData/ext_gr...    None   \n",
       "\n",
       "                          init_values  is_first  is_local  \n",
       "LoadR15    {'loc': 5.0, 'scale': 0.5}      True     False  \n",
       "LoadR16    {'loc': 5.0, 'scale': 0.5}      True     False  \n",
       "LoadR17    {'loc': 5.0, 'scale': 0.5}      True     False  \n",
       "LoadR18    {'loc': 5.0, 'scale': 0.5}      True     False  \n",
       "PowerGrid                          {}     False     False  "
      ]
     },
     "execution_count": 11,
     "metadata": {},
     "output_type": "execute_result"
    }
   ],
   "source": [
    "sim.edit.nodes.tail()"
   ]
  },
  {
   "cell_type": "markdown",
   "metadata": {},
   "source": [
    "### Links\n",
    "The active and reactive power `Links` bewteen each of the consumers and the power grid can be created using `Simulator.edit.add_multiple_links_between_two_nodes()` and looping through all the consumers as follow:"
   ]
  },
  {
   "cell_type": "code",
   "execution_count": 12,
   "metadata": {},
   "outputs": [],
   "source": [
    "for n in loads.name:\n",
    "    sim.edit.add_multiple_links_between_two_nodes(\n",
    "        get_node=n, \n",
    "        set_node=\"PowerGrid\", \n",
    "        get_attrs=[\"p_kw\", \"q_kvar\"],\n",
    "        set_attrs=[\"{}_p_kw\".format(n), \"{}_q_kvar\".format(n)],\n",
    "        units=[\"p_kw\", \"q_kvar\"]\n",
    "    )"
   ]
  },
  {
   "cell_type": "code",
   "execution_count": 13,
   "metadata": {},
   "outputs": [
    {
     "data": {
      "text/html": [
       "<div>\n",
       "<style scoped>\n",
       "    .dataframe tbody tr th:only-of-type {\n",
       "        vertical-align: middle;\n",
       "    }\n",
       "\n",
       "    .dataframe tbody tr th {\n",
       "        vertical-align: top;\n",
       "    }\n",
       "\n",
       "    .dataframe thead th {\n",
       "        text-align: right;\n",
       "    }\n",
       "</style>\n",
       "<table border=\"1\" class=\"dataframe\">\n",
       "  <thead>\n",
       "    <tr style=\"text-align: right;\">\n",
       "      <th></th>\n",
       "      <th>get_attr</th>\n",
       "      <th>get_node</th>\n",
       "      <th>set_attr</th>\n",
       "      <th>set_node</th>\n",
       "    </tr>\n",
       "  </thead>\n",
       "  <tbody>\n",
       "    <tr>\n",
       "      <th>0</th>\n",
       "      <td>p_kw</td>\n",
       "      <td>LoadR1</td>\n",
       "      <td>LoadR1_p_kw</td>\n",
       "      <td>PowerGrid</td>\n",
       "    </tr>\n",
       "    <tr>\n",
       "      <th>1</th>\n",
       "      <td>q_kvar</td>\n",
       "      <td>LoadR1</td>\n",
       "      <td>LoadR1_q_kvar</td>\n",
       "      <td>PowerGrid</td>\n",
       "    </tr>\n",
       "    <tr>\n",
       "      <th>2</th>\n",
       "      <td>p_kw</td>\n",
       "      <td>LoadR11</td>\n",
       "      <td>LoadR11_p_kw</td>\n",
       "      <td>PowerGrid</td>\n",
       "    </tr>\n",
       "    <tr>\n",
       "      <th>3</th>\n",
       "      <td>q_kvar</td>\n",
       "      <td>LoadR11</td>\n",
       "      <td>LoadR11_q_kvar</td>\n",
       "      <td>PowerGrid</td>\n",
       "    </tr>\n",
       "    <tr>\n",
       "      <th>4</th>\n",
       "      <td>p_kw</td>\n",
       "      <td>LoadC14</td>\n",
       "      <td>LoadC14_p_kw</td>\n",
       "      <td>PowerGrid</td>\n",
       "    </tr>\n",
       "  </tbody>\n",
       "</table>\n",
       "</div>"
      ],
      "text/plain": [
       "  get_attr get_node        set_attr   set_node\n",
       "0     p_kw   LoadR1     LoadR1_p_kw  PowerGrid\n",
       "1   q_kvar   LoadR1   LoadR1_q_kvar  PowerGrid\n",
       "2     p_kw  LoadR11    LoadR11_p_kw  PowerGrid\n",
       "3   q_kvar  LoadR11  LoadR11_q_kvar  PowerGrid\n",
       "4     p_kw  LoadC14    LoadC14_p_kw  PowerGrid"
      ]
     },
     "execution_count": 13,
     "metadata": {},
     "output_type": "execute_result"
    }
   ],
   "source": [
    "sim.edit.links.head()"
   ]
  },
  {
   "cell_type": "code",
   "execution_count": 14,
   "metadata": {},
   "outputs": [],
   "source": [
    "import networkx as nx\n",
    "import matplotlib.pyplot as plt"
   ]
  },
  {
   "cell_type": "code",
   "execution_count": 15,
   "metadata": {},
   "outputs": [
    {
     "data": {
      "text/plain": [
       "<IPython.core.display.Javascript object>"
      ]
     },
     "metadata": {},
     "output_type": "display_data"
    },
    {
     "data": {
      "text/html": [
       "<div id='275d336b-9a76-4147-b487-ddde03c26a90'></div>"
      ],
      "text/plain": [
       "<IPython.core.display.HTML object>"
      ]
     },
     "metadata": {},
     "output_type": "execute_result"
    }
   ],
   "source": [
    "%matplotlib notebook\n",
    "plt.figure(figsize=(9, 6))\n",
    "g = sim.edit.graph\n",
    "# Draw the graph with a Kamada-Kawai force-directed layout.\n",
    "nx.draw_kamada_kawai(g, with_labels=True, font_weight='bold')"
   ]
  },
  {
   "cell_type": "markdown",
   "metadata": {},
   "source": [
    "## Simulation parameters\n",
    "Based on the created co-simulation graph, we can now create `Groups`, `Sequence` and `Steps` for the simulation as follow:"
   ]
  },
  {
   "cell_type": "code",
   "execution_count": 16,
   "metadata": {},
   "outputs": [],
   "source": [
    "grp0 = sim.create_group(*[n for n in loads.name])\n",
    "grp1 = sim.create_group(\"PowerGrid\")"
   ]
  },
  {
   "cell_type": "code",
   "execution_count": 17,
   "metadata": {},
   "outputs": [],
   "source": [
    "sim.create_sequence(grp0, grp1)\n",
    "sim.create_steps([60] * 5)"
   ]
  },
  {
   "cell_type": "markdown",
   "metadata": {},
   "source": [
    "## Running simulation\n",
    "Everything is ready, we just have to run the simulation using `Simulator.run_simulation()`"
   ]
  },
  {
   "cell_type": "code",
   "execution_count": null,
   "metadata": {},
   "outputs": [
    {
     "name": "stdout",
     "output_type": "stream",
     "text": [
      "dict_keys(['aux', 'orc', 'nodes'])\n"
     ]
    }
   ],
   "source": [
    "logs = sim.run_simulation(server=\"server.py\")\n",
    "print(logs.keys())"
   ]
  },
  {
   "cell_type": "code",
   "execution_count": null,
   "metadata": {
    "scrolled": false
   },
   "outputs": [],
   "source": [
    "for l in sim.get_logs(logs[\"orc\"]):\n",
    "    if \"INFO\" in l:\n",
    "        print(l)"
   ]
  },
  {
   "cell_type": "markdown",
   "metadata": {},
   "source": [
    "## Retrieving results\n",
    "\n",
    "Now that the simulation is finished, we can connect to the database of results and list all the available stored values as follow: "
   ]
  },
  {
   "cell_type": "code",
   "execution_count": null,
   "metadata": {},
   "outputs": [],
   "source": [
    "sim.results.connect_to_results_db()\n",
    "res = sim.results.list_of_available_results\n",
    "res.loc[res[\"IN/OUT\"] == \"X\"]"
   ]
  },
  {
   "cell_type": "markdown",
   "metadata": {},
   "source": [
    "\"X\" defines the stored values describing internal state that are not exchanged between `Nodes`, here the active and reactive power consumed by the feeder delivering energy to all the consumers."
   ]
  },
  {
   "cell_type": "code",
   "execution_count": null,
   "metadata": {},
   "outputs": [],
   "source": [
    "results = sim.results.get_results_by_pattern(\"X*PowerGrid*\")\n",
    "results.keys()"
   ]
  },
  {
   "cell_type": "code",
   "execution_count": null,
   "metadata": {},
   "outputs": [],
   "source": [
    "%matplotlib notebook\n",
    "\n",
    "plt.figure(figsize=(9, 6))\n",
    "plt.plot(-1*results['X||PowerGrid||Feeder_p_kw'], \"-o\", label=\"Feeder P [kW]\", alpha=0.5)\n",
    "plt.legend()"
   ]
  }
 ],
 "metadata": {
  "kernelspec": {
   "display_name": "Python 3",
   "language": "python",
   "name": "python3"
  },
  "language_info": {
   "codemirror_mode": {
    "name": "ipython",
    "version": 3
   },
   "file_extension": ".py",
   "mimetype": "text/x-python",
   "name": "python",
   "nbconvert_exporter": "python",
   "pygments_lexer": "ipython3",
   "version": "3.6.5"
  }
 },
 "nbformat": 4,
 "nbformat_minor": 1
}
